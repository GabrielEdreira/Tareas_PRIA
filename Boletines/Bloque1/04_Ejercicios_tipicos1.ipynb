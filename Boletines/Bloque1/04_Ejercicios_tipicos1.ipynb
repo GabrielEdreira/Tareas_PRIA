{
 "cells": [
  {
   "cell_type": "markdown",
   "metadata": {
    "id": "eXdEhpJXZiSu"
   },
   "source": [
    "# **Ejercicios típicos**\n",
    "\n"
   ]
  },
  {
   "cell_type": "markdown",
   "metadata": {},
   "source": [
    "- #### Autor: escribir aquí el nombre del autor"
   ]
  },
  {
   "cell_type": "code",
   "execution_count": null,
   "metadata": {
    "id": "lNE9jCIrJZQE"
   },
   "outputs": [],
   "source": [
    "# usa esta celda si queres hacer funciones que uses en el resto del documento\n"
   ]
  },
  {
   "cell_type": "markdown",
   "metadata": {
    "id": "x4kL3smkZm2p"
   },
   "source": [
    "### 1º Introducir por teclado un número y determinar si es positivo, negativo o cero. Imprimir por pantalla el número y el resultado.\n",
    "NOTA: no conviertas el texto a número."
   ]
  },
  {
   "cell_type": "code",
   "execution_count": null,
   "metadata": {
    "id": "CsZDoWpAagbO"
   },
   "outputs": [
    {
     "name": "stdout",
     "output_type": "stream",
     "text": [
      "Introduce un número: 0\n",
      "El número es cero.: 0\n"
     ]
    }
   ],
   "source": [
    "print(\"Introduce un número:\", end = \" \")\n",
    "num = input(\"Introduce un número:\")\n",
    "print(num)\n",
    "\n",
    "result = \"\"\n",
    "if len(num) == 0:\n",
    "    result = \"El número es cero\"\n",
    "elif num > \"0\":\n",
    "    result = \"El número es positivo\"\n",
    "else:\n",
    "    result = \"El número es negativo\" \n",
    "\n",
    "print (f\"{result}: {num}\")\n",
    "\n"
   ]
  },
  {
   "cell_type": "markdown",
   "metadata": {
    "id": "LiDloPhMaGnP"
   },
   "source": [
    "### 2º Introducir por teclado un string y devolver por consola si es mayor, igual o menor a 10 caracteres."
   ]
  },
  {
   "cell_type": "code",
   "execution_count": null,
   "metadata": {
    "id": "qiQBt-I9aEC9"
   },
   "outputs": [
    {
     "name": "stdout",
     "output_type": "stream",
     "text": [
      "Introduce un texto: 1234567891\n",
      "El múmero es igual a 10 caracteres: 10\n"
     ]
    }
   ],
   "source": [
    "print(\"Introduce un texto:\", end = \" \")\n",
    "age = input(\"Introduce un texto:\")\n",
    "print(age)\n",
    "\n",
    "result = \"\"\n",
    "match len(age):\n",
    "    case age if age == 10:\n",
    "        result = \"El múmero es igual a 10 caracteres\"\n",
    "    case age if age > 10:\n",
    "        result = \"El múmero es mayor a 10 caracteres\"\n",
    "    case age if age < 10:\n",
    "        result = \"El múmero es menor a 10 caracteres\"\n",
    "\n",
    "print (f\"{result}: {age}\")"
   ]
  },
  {
   "cell_type": "markdown",
   "metadata": {
    "id": "ogCiPH_dai2q"
   },
   "source": [
    "### 3º Resolver el problema anterior con el [operador ternario](https://stackoverflow.com/questions/394809/does-python-have-a-ternary-conditional-operator)\n",
    "NOTA: *condition_if_true* **if** *condition* **else** *condition_if_false*\n"
   ]
  },
  {
   "cell_type": "code",
   "execution_count": null,
   "metadata": {
    "id": "_jZURwS2awkp"
   },
   "outputs": [
    {
     "name": "stdout",
     "output_type": "stream",
     "text": [
      "Introduce un texto: 1234567890\n",
      "El número es mayor a 10 caracteres: 1234567890\n"
     ]
    }
   ],
   "source": [
    "print(\"Introduce un texto:\", end = \" \")\n",
    "age = input(\"Introduce un texto:\")\n",
    "print(age)\n",
    "\n",
    "print (f\"El número es {\"igual\" if len(age) == 10 else (\"mayor\" if len(age) > 10 else \"menor\")} a 10 caracteres: {age}\")"
   ]
  },
  {
   "cell_type": "markdown",
   "metadata": {
    "id": "6GqZFiFsaxcB"
   },
   "source": [
    "### 4º Introducir por teclado dos número enteros, devolver por consola si el primer número es mayor, igual o menor al segundo número.\n",
    "NOTA: no los conviertas a números"
   ]
  },
  {
   "cell_type": "code",
   "execution_count": null,
   "metadata": {
    "id": "W6O-8fSSbIj-"
   },
   "outputs": [
    {
     "name": "stdout",
     "output_type": "stream",
     "text": [
      "Introduce un número: a\n",
      "Introduce un número: 1\n",
      "El primer número es mayor al segundo\n"
     ]
    }
   ],
   "source": [
    "print(\"Introduce un número:\", end = \" \")\n",
    "age = input(\"Introduce un número:\")\n",
    "print(age)\n",
    "\n",
    "print(\"Introduce un número:\", end = \" \")\n",
    "num2 = input(\"Introduce un número:\")\n",
    "print(num2)\n",
    "\n",
    "print(f\"El primer número es {\"mayor\" if age > num2 else \"menor\" if age < num2 else \"igual\"} al segundo\")"
   ]
  },
  {
   "cell_type": "markdown",
   "metadata": {
    "id": "YhACl7cbbJMX"
   },
   "source": [
    "### 5º Introducir por teclado dos número enteros positivos. Comprobar que el número menor es distinto de cero, si es cero no efectuar la división y visualizarlo por consola. Si la división es posible indicar cual es el numerador, el denominador, el cociente y el resto."
   ]
  },
  {
   "cell_type": "code",
   "execution_count": null,
   "metadata": {
    "id": "0Rd-DmNHbqqI"
   },
   "outputs": [
    {
     "name": "stdout",
     "output_type": "stream",
     "text": [
      "Introduce un número: 2\n",
      "Introduce un número: 1\n",
      "El menor número es: 1\n"
     ]
    }
   ],
   "source": [
    "print(\"Introduce un número:\", end = \" \")\n",
    "num1 = input(\"Introduce un número:\")\n",
    "print(num1)\n",
    "\n",
    "print(\"Introduce un número:\", end = \" \")\n",
    "num2 = input(\"Introduce un número:\")\n",
    "print(num2)\n",
    "\n",
    "print(f\"El menor número es: {max(num1, num2)}\")"
   ]
  },
  {
   "cell_type": "markdown",
   "metadata": {
    "id": "3JLz4Y2lcCCw"
   },
   "source": [
    "### 6º Introducir por teclado dos números enteros positivos. Comprueba si el mayor es múltiplo del menor. Visualiza en la consola el resultado."
   ]
  },
  {
   "cell_type": "code",
   "execution_count": null,
   "metadata": {
    "id": "FUfpZZSzbMrc"
   },
   "outputs": [
    {
     "name": "stdout",
     "output_type": "stream",
     "text": [
      "Introduce un número: 1\n",
      "Introduce un número: 2\n",
      "El mayor es múltiplo del menor\n"
     ]
    }
   ],
   "source": [
    "print(\"Introduce un número:\", end = \" \")\n",
    "age = int(input(\"Introduce un número:\"))\n",
    "print(age)\n",
    "\n",
    "print(\"Introduce un número:\", end = \" \")\n",
    "num2 = int(input(\"Introduce un número:\"))\n",
    "print(num2)\n",
    "\n",
    "text = \"El mayor es múltiplo del menor\" if max(age, num2) % min(age, num2) == 0 else \"El mayor NO es múltiplo del menor\"\n",
    "print(text)"
   ]
  },
  {
   "cell_type": "markdown",
   "metadata": {
    "id": "GEvMj2KzbN6s"
   },
   "source": [
    "### 7º Solicitar un número entero por teclado y muestre por consola si es par o impar."
   ]
  },
  {
   "cell_type": "code",
   "execution_count": null,
   "metadata": {
    "id": "CqKcSNG3bZDU"
   },
   "outputs": [
    {
     "name": "stdout",
     "output_type": "stream",
     "text": [
      "Introduce un número: 0\n",
      "Es par\n"
     ]
    }
   ],
   "source": [
    "\n",
    "print(\"Introduce un número:\", end = \" \")\n",
    "age = int(input(\"Introduce un número:\"))\n",
    "print(age)\n",
    "\n",
    "print(\"Es par\" if age % 2 == 0 else \"Es impar\")"
   ]
  },
  {
   "cell_type": "markdown",
   "metadata": {
    "id": "UhiYkKnabtpd"
   },
   "source": [
    "### 8º Solicitar el año actual y un año cualquiera por teclado y visualizar cuántos años han pasado desde ese año o cuántos años faltan para llegar a ese año."
   ]
  },
  {
   "cell_type": "code",
   "execution_count": null,
   "metadata": {
    "id": "TjylUkAqb63q"
   },
   "outputs": [
    {
     "name": "stdout",
     "output_type": "stream",
     "text": [
      "Introduce el año actual: 2000\n",
      "Introduce un año: 2024\n",
      "Faltan 24 años.\n"
     ]
    }
   ],
   "source": [
    "print(\"Introduce el año actual:\", end = \" \")\n",
    "year = int(input(\"Introduce el año actual:\"))\n",
    "print(year)\n",
    "\n",
    "print(\"Introduce un año:\", end = \" \")\n",
    "year2 = int(input(\"Introduce un año:\"))\n",
    "print(year2)\n",
    "\n",
    "diff = year - year2\n",
    "print(f\"{\"Faltan\" if diff < 0 else \"Pasaron\"} {abs(diff)} años.\")"
   ]
  },
  {
   "cell_type": "markdown",
   "metadata": {
    "id": "-gNYMWf6b_Wr"
   },
   "source": [
    "### 9º Introducir por teclado un año, visualizar por consola si es bisiesto o no.\n",
    "\n",
    "NOTA: Se recuerda que los años bisiestos son múltiplos de 4, pero los múltiplos de 100 no lo son, aunque los múltiplos de 400 sí."
   ]
  },
  {
   "cell_type": "code",
   "execution_count": 38,
   "metadata": {
    "id": "uPFkRsnFcnSa"
   },
   "outputs": [
    {
     "name": "stdout",
     "output_type": "stream",
     "text": [
      "Introduce un año: 2024\n",
      "Es bisiesto\n"
     ]
    }
   ],
   "source": [
    "print(\"Introduce un año:\", end = \" \")\n",
    "year = int(input(\"Introduce un año:\"))\n",
    "print(year)\n",
    "\n",
    "if year % 4 == 0 and (year % 100 != 0 or year % 400 == 0):\n",
    "\tprint(\"Es bisiesto\")\n",
    "else:\n",
    "\tprint(\"No es bisiesto\")"
   ]
  },
  {
   "cell_type": "markdown",
   "metadata": {
    "id": "VO58q-uNc3tS"
   },
   "source": [
    "### 10º Escriba un programa que pida los coeficientes de una ecuación de segundo grado (a·x² + b·x + c = 0) y escriba la solución.\n",
    "\n",
    "Haz una función a la que le pasas $a$, $b$, $c$ y devuelve la/las soluciones.\n",
    "\n",
    "Recuerda que una ecuación de segundo grado puede no tener solución en $\\mathbb{R}$ (pero sí en $\\mathbb{C}$), tener una solución única, tener dos soluciones. Se recuerda que la fórmula de las soluciones es:\n",
    "\n",
    "$\\frac{-b\\pm \\sqrt{b^{2}-4ac}}{2a}$\n",
    "\n"
   ]
  },
  {
   "cell_type": "code",
   "execution_count": null,
   "metadata": {
    "id": "9S6s-13UfLoq"
   },
   "outputs": [
    {
     "name": "stdout",
     "output_type": "stream",
     "text": [
      "Introduce un número: 1\n",
      "Introduce un número: 2\n",
      "Introduce un número: 3\n",
      "((-1+1.4142135623730951j), (-1-1.4142135623730951j))\n"
     ]
    }
   ],
   "source": [
    "import cmath\n",
    "\n",
    "def ecuacionSegundoGrado(a, b, c):\n",
    "    if a == 0:\n",
    "        return \"No es una ecuación de segundo grado.\"\n",
    "    \n",
    "    aux = cmath.sqrt(b**2 - 4*a*c)\n",
    "    \n",
    "    x1 = (-b + aux) / (2 * a)\n",
    "    x2 = (-b - aux) / (2 * a)\n",
    "    \n",
    "    return x1, x2\n",
    "\n",
    "print(\"Introduce un número:\", end = \" \")\n",
    "a = int(input(\"Introduce un número:\"))\n",
    "print(a)\n",
    "\n",
    "print(\"Introduce un número:\", end = \" \")\n",
    "b = int(input(\"Introduce un número:\"))\n",
    "print(b)\n",
    "\n",
    "print(\"Introduce un número:\", end = \" \")\n",
    "c = int(input(\"Introduce un número:\"))\n",
    "print(c)\n",
    "\n",
    "aux = ecuacionSegundoGrado(a,b,c)\n",
    "\n",
    "print(f\"({aux[0]}, {aux[1]})\")"
   ]
  }
 ],
 "metadata": {
  "colab": {
   "collapsed_sections": [],
   "private_outputs": true,
   "provenance": []
  },
  "kernelspec": {
   "display_name": ".venv",
   "language": "python",
   "name": "python3"
  },
  "language_info": {
   "codemirror_mode": {
    "name": "ipython",
    "version": 3
   },
   "file_extension": ".py",
   "mimetype": "text/x-python",
   "name": "python",
   "nbconvert_exporter": "python",
   "pygments_lexer": "ipython3",
   "version": "3.13.0"
  }
 },
 "nbformat": 4,
 "nbformat_minor": 0
}
