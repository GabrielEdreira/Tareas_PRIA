{
 "cells": [
  {
   "cell_type": "markdown",
   "metadata": {
    "id": "bQyQiir5Uwup"
   },
   "source": [
    "# *Ejercicios con cadenas*"
   ]
  },
  {
   "cell_type": "markdown",
   "metadata": {},
   "source": [
    "- #### Autor: escribir aquí el nombre del autor"
   ]
  },
  {
   "cell_type": "markdown",
   "metadata": {
    "id": "bpZRyKs8VeRA"
   },
   "source": [
    "### 1º Visualizar por consola un texto introducido por teclado"
   ]
  },
  {
   "cell_type": "code",
   "execution_count": null,
   "metadata": {
    "colab": {
     "base_uri": "https://localhost:8080/",
     "height": 55
    },
    "id": "XaR06ewMVqnL",
    "outputId": "b3550cab-46f0-4c9c-8b45-ab1117427bf9"
   },
   "outputs": [],
   "source": [
    "print(\"Introduce un texto:\", end = \" \")\n",
    "texto = input(\"Introduce un texto:\")\n",
    "print(texto)"
   ]
  },
  {
   "cell_type": "markdown",
   "metadata": {
    "id": "6gvhWFXwWqaZ"
   },
   "source": [
    "### 2º Introducir por teclado una cadena y una subcadena y verificar si la subcadena está contenida en la cadena."
   ]
  },
  {
   "cell_type": "code",
   "execution_count": 6,
   "metadata": {
    "colab": {
     "base_uri": "https://localhost:8080/"
    },
    "id": "tZqK7jqQXCXh",
    "outputId": "d0e24842-0a34-4a08-e566-97bd179ade0f"
   },
   "outputs": [
    {
     "name": "stdout",
     "output_type": "stream",
     "text": [
      "Introduce un texto: Hola mundo!\n",
      "Introduce una subcadena: !\n",
      "True\n"
     ]
    }
   ],
   "source": [
    "print (\"Introduce un texto:\", end = \" \")\n",
    "texto = input(\"Introduce un texto:\")\n",
    "print (texto)\n",
    "\n",
    "print (\"Introduce una subcadena:\", end = \" \")\n",
    "sub = input(\"Introduce una subcadena:\")\n",
    "print (sub)\n",
    "\n",
    "if (texto.__contains__(sub)):\n",
    "    print(f\"La contiene: {sub}\")\n",
    "else:\n",
    "    print(f\"No la contiene.\")"
   ]
  },
  {
   "cell_type": "markdown",
   "metadata": {
    "id": "OMWnyG-_XJJI"
   },
   "source": [
    "### 3º Introducir una cadena por teclado y un carácter por teclado (valida que sea un carácter) y mostrar las veces que aparece el carácter en la cadena."
   ]
  },
  {
   "cell_type": "code",
   "execution_count": 9,
   "metadata": {
    "colab": {
     "base_uri": "https://localhost:8080/"
    },
    "id": "syv03EZDXcfx",
    "outputId": "16c30663-3614-4ca9-bbde-789fd3c44d79"
   },
   "outputs": [
    {
     "name": "stdout",
     "output_type": "stream",
     "text": [
      "Introduce un texto: sssssssssssssssssssssssaaaaaaaaaaaa\n",
      "Introduce un carácter: s\n",
      "El caracter: 's', aparece un total de 23 veces.\n"
     ]
    }
   ],
   "source": [
    "print(\"Introduce un texto:\", end = \" \")\n",
    "texto = input(\"Introduce un texto:\")\n",
    "print(texto)\n",
    "\n",
    "loop = True\n",
    "while(loop):\n",
    "    print(\"Introduce un carácter:\", end = \" \")\n",
    "    char1 = input(\"Introduce un carácter:\")\n",
    "    print(char1)\n",
    "\n",
    "    if (len(char1) == 1):\n",
    "        loop = False\n",
    "\n",
    "print(f\"El caracter: '{char1}', aparece un total de {texto.count(char1)} veces.\")\n"
   ]
  },
  {
   "cell_type": "markdown",
   "metadata": {
    "id": "DU_EKW21YGWa"
   },
   "source": [
    "### 4º Introducir una frase por teclado y contar el número de palabras que contiene."
   ]
  },
  {
   "cell_type": "code",
   "execution_count": null,
   "metadata": {
    "colab": {
     "base_uri": "https://localhost:8080/"
    },
    "id": "IChGoYRHYSlp",
    "outputId": "201c7e2f-e57f-4a80-b214-a4f4289b9daf"
   },
   "outputs": [
    {
     "name": "stdout",
     "output_type": "stream",
     "text": [
      "Introduce un texto: 111 111 11 111\n",
      "Número de palabras: 4\n"
     ]
    }
   ],
   "source": [
    "print(\"Introduce un texto:\", end = \" \")\n",
    "texto = input(\"Introduce un texto:\")\n",
    "print(texto)\n",
    "\n",
    "print(f\"Número de palabras: {len(texto.split(' '))}\")"
   ]
  },
  {
   "cell_type": "markdown",
   "metadata": {
    "id": "_cFhlSIlYVtq"
   },
   "source": [
    "### 5º Introducir por teclado una cadena con un nombre y apellidos, realizar un programa que muestre las iniciales en mayúsculas."
   ]
  },
  {
   "cell_type": "code",
   "execution_count": null,
   "metadata": {
    "colab": {
     "base_uri": "https://localhost:8080/"
    },
    "id": "BQLsZJp3YwJp",
    "outputId": "9572597f-2976-4cf8-eaf3-1fc0248bd27e"
   },
   "outputs": [
    {
     "name": "stdout",
     "output_type": "stream",
     "text": [
      "Introduce un texto: Gabriel Antonio Edreira García\n",
      "Iniciales: G.A.E.G.\n"
     ]
    }
   ],
   "source": [
    "def getIniciales(nombre):\n",
    "    res = \"\"\n",
    "\n",
    "    array = nombre.split(' ')\n",
    "    for i in range(0, len(array)):\n",
    "        res += array[i][0] + \".\"\n",
    "\n",
    "    return res\n",
    "\n",
    "\n",
    "print(\"Introduce tu nombre:\", end = \" \")\n",
    "texto = input(\"Introduce tu nombre:\")\n",
    "print(texto)\n",
    "\n",
    "print(f\"Iniciales: {getIniciales(texto)}\")"
   ]
  },
  {
   "cell_type": "markdown",
   "metadata": {
    "id": "89LA4y9kYwsY"
   },
   "source": [
    "### 6º Introducir una cadena y dos caracteres por teclado (valida que sea un carácter), sustituir la aparición del primer carácter en la cadena por el segundo carácter."
   ]
  },
  {
   "cell_type": "code",
   "execution_count": 1,
   "metadata": {
    "colab": {
     "base_uri": "https://localhost:8080/",
     "height": 92
    },
    "id": "TgqhkPlZZIFp",
    "outputId": "f73cd172-2ed8-4ea5-855f-958c02697e55"
   },
   "outputs": [
    {
     "name": "stdout",
     "output_type": "stream",
     "text": [
      "Introduce un texto: Hola\n",
      "Introduce dos carácteres: oa\n",
      "Hala\n"
     ]
    }
   ],
   "source": [
    "print(\"Introduce un texto:\", end = \" \")\n",
    "texto = input(\"Introduce un texto:\")\n",
    "print(texto)\n",
    "\n",
    "loop = True\n",
    "while(loop):\n",
    "    print(\"Introduce un caracter:\", end = \" \")\n",
    "    char1 = input(\"Introduce un caracter:\")\n",
    "    print(char1)\n",
    "\n",
    "    if (len(char1) == 1):\n",
    "        loop = False\n",
    "\n",
    "loop = True\n",
    "while(loop):\n",
    "    print(\"Introduce un caracter:\", end = \" \")\n",
    "    char2 = input(\"Introduce un caracter:\")\n",
    "    print(char2)\n",
    "\n",
    "    if (len(char2) == 1):\n",
    "        loop = False\n",
    "\n",
    "print(texto.replace(char1, char2))\n"
   ]
  },
  {
   "cell_type": "markdown",
   "metadata": {
    "id": "8pC85uRKO31B"
   },
   "source": [
    "### 7º Utilizar la función print() y el salto de linea para obtener el siguiente texto:\n",
    "\n",
    "Con diez cañones por banda,<br>\n",
    "viento en popa a toda vela,<br>\n",
    "no corta el mar, sino vuela<br>\n",
    "un velero bergantín;"
   ]
  },
  {
   "cell_type": "code",
   "execution_count": 6,
   "metadata": {
    "colab": {
     "base_uri": "https://localhost:8080/"
    },
    "id": "ZZmckYgmRagx",
    "outputId": "54b741e8-ed47-4430-fb5d-7cd734d55748"
   },
   "outputs": [
    {
     "name": "stdout",
     "output_type": "stream",
     "text": [
      "Con diez cañones por banda,\n",
      "viento en popa a toda vela,\n",
      "no corta el mar, sino vuela \n",
      "un velero bergantín;\n"
     ]
    }
   ],
   "source": [
    "print(\"Con diez cañones por banda,\\n\"\n",
    "      + \"viento en popa a toda vela,\\n\"\n",
    "      + \"no corta el mar, sino vuela \\n\"\n",
    "      + \"un velero bergantín;\")\n"
   ]
  },
  {
   "cell_type": "markdown",
   "metadata": {
    "id": "UC40WZFYR3Ow"
   },
   "source": [
    "### 8º Mediante la función input() solicitar una frase por consola y seguidamente una vocal, imprimir la frase por consola con la vocal introducida a mayúsculas"
   ]
  },
  {
   "cell_type": "code",
   "execution_count": 10,
   "metadata": {
    "colab": {
     "base_uri": "https://localhost:8080/"
    },
    "id": "LRgRaCi6SaGa",
    "outputId": "089c5b75-0a4a-4e2b-f194-0b689150ef2c"
   },
   "outputs": [
    {
     "name": "stdout",
     "output_type": "stream",
     "text": [
      "Introduce un texto: Ayer estaba en casa muy cansado\n",
      "Introduce un caráter: a\n",
      "Ayer estAbA en cAsA muy cAnsAdo\n"
     ]
    }
   ],
   "source": [
    "print(\"Introduce un texto:\", end = \" \")\n",
    "texto = input(\"Introduce un texto:\")\n",
    "print(texto)\n",
    "\n",
    "loop = True\n",
    "while(loop):\n",
    "    print(\"Introduce un caráter:\", end = \" \")\n",
    "    char1 = input(\"Introduce un carácter:\")\n",
    "    print(char1)\n",
    "\n",
    "    if (len(char1) == 1):\n",
    "        loop = False\n",
    "\n",
    "print(texto.replace(char1, char1.upper()))\n",
    "\n",
    "\n"
   ]
  },
  {
   "cell_type": "markdown",
   "metadata": {
    "id": "ZFYDY9wfTZ51"
   },
   "source": [
    "### 9º Introduce una frase por teclado y seguidamente pide dos números, también por teclado, visualiza por consola la subcadena que empieza en la posición del primer número en la frase y termina en el segundo número en la frase"
   ]
  },
  {
   "cell_type": "code",
   "execution_count": 12,
   "metadata": {
    "colab": {
     "base_uri": "https://localhost:8080/",
     "height": 92
    },
    "id": "91aIzlGmTgd6",
    "outputId": "a25303ee-20f4-4b50-ca26-acab6820b6cc"
   },
   "outputs": [
    {
     "name": "stdout",
     "output_type": "stream",
     "text": [
      "Introduce un texto: ABCDEFGHIJQLMNÑOPQRSTUVWXYZ\n",
      "Introduce un número: 1\n",
      "Introduce otro número: 9\n",
      "BCDEFGHIJQLMNÑOPQRST\n"
     ]
    }
   ],
   "source": [
    "print(\"Introduce un texto:\", end = \" \")\n",
    "texto = input(\"Introduce un texto:\")\n",
    "print(texto)\n",
    "\n",
    "print(\"Introduce un número:\", end = \" \")\n",
    "num1 = int(input(\"Introduce un número:\"))\n",
    "print(num1)\n",
    "\n",
    "print(\"Introduce otro número:\", end = \" \")\n",
    "num2 = int(input(\"Introduce un número:\"))\n",
    "print(char2)\n",
    "\n",
    "print(texto[num1:num2+1])\n"
   ]
  },
  {
   "cell_type": "markdown",
   "metadata": {
    "id": "iLZsliARTpaO"
   },
   "source": [
    "### 10º Solicitar por teclado una cuenta de correo electrónico. Separar en dos variables el nombre de usuario y el dominio. Visualizar por consola el texto: El nombre de usuario es <> y su dominio es <>, sustituyendo los parentesis angulares por cada una de las variables."
   ]
  },
  {
   "cell_type": "code",
   "execution_count": 13,
   "metadata": {
    "colab": {
     "base_uri": "https://localhost:8080/"
    },
    "id": "Vk3GQjLZUGrh",
    "outputId": "b5b24620-8826-437d-998e-a4b31ea395ef"
   },
   "outputs": [
    {
     "name": "stdout",
     "output_type": "stream",
     "text": [
      "Introduce tu correo electrónico: gabrieledreira@gmail.com\n",
      "El nombre de usuario es gabrieledreira y su dominio es gmail.com.\n"
     ]
    }
   ],
   "source": [
    "print(\"Introduce tu correo electrónico:\", end = \" \")\n",
    "email = input(\"Introduce tu correo electrónico:\")\n",
    "print(email)\n",
    "\n",
    "array = email.split('@')\n",
    "texto = array[0]\n",
    "dominio = array[1] # .split('.')[0] si se quisiera quitar el .com/.es/.org/etc\n",
    "\n",
    "print(f\"El nombre de usuario es {texto} y su dominio es {dominio}.\")"
   ]
  }
 ],
 "metadata": {
  "colab": {
   "collapsed_sections": [],
   "provenance": []
  },
  "kernelspec": {
   "display_name": "base",
   "language": "python",
   "name": "python3"
  },
  "language_info": {
   "codemirror_mode": {
    "name": "ipython",
    "version": 3
   },
   "file_extension": ".py",
   "mimetype": "text/x-python",
   "name": "python",
   "nbconvert_exporter": "python",
   "pygments_lexer": "ipython3",
   "version": "3.12.7"
  }
 },
 "nbformat": 4,
 "nbformat_minor": 0
}
