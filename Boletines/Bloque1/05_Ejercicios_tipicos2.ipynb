{
 "cells": [
  {
   "cell_type": "markdown",
   "metadata": {
    "id": "gYDalNAzLpAC"
   },
   "source": [
    "# **Ejercicios típicos 2**\n"
   ]
  },
  {
   "cell_type": "markdown",
   "metadata": {},
   "source": [
    "- #### Autor: escribir aquí el nombre del autor"
   ]
  },
  {
   "cell_type": "markdown",
   "metadata": {
    "id": "gRPx5bFIMCnx"
   },
   "source": [
    "### 1º Introducir numeros por el teclado hasta que el usuario introduzca un cero. Al finalizar visualizar por consola la suma de todos los números introducidos."
   ]
  },
  {
   "cell_type": "code",
   "execution_count": null,
   "metadata": {
    "id": "0tJyU-EJMIMw"
   },
   "outputs": [
    {
     "name": "stdout",
     "output_type": "stream",
     "text": [
      "Introduce un número: 1\n",
      "Introduce un número: 1\n",
      "Introduce un número: 1\n",
      "Introduce un número: 1\n",
      "Introduce un número: 1\n",
      "Introduce un número: 2\n",
      "Introduce un número: 4\n",
      "Introduce un número: 61\n",
      "Introduce un número: 312\n",
      "Introduce un número: 0\n"
     ]
    }
   ],
   "source": [
    "loop = True\n",
    "while (loop):\n",
    "    print(\"Introduce un número:\", end = \" \")\n",
    "    num = int(input(\"Introduce un número:\"))\n",
    "    print(num)\n",
    "\n",
    "    if (num == 0):\n",
    "        loop = False\n",
    "\n",
    "print(\"Terminado\")"
   ]
  },
  {
   "cell_type": "markdown",
   "metadata": {
    "id": "XyPhI7fQNdZY"
   },
   "source": [
    "### 2º Introducir un número entero positivo por teclado. Visualizar por consola la suma de sus dígitos"
   ]
  },
  {
   "cell_type": "code",
   "execution_count": null,
   "metadata": {
    "id": "IUuR_qzVNo6v"
   },
   "outputs": [
    {
     "name": "stdout",
     "output_type": "stream",
     "text": [
      "Introduce un número: 11111111111\n",
      "El total es: 11\n"
     ]
    }
   ],
   "source": [
    "loop = True\n",
    "while (loop):\n",
    "    print(\"Introduce un número:\", end = \" \")\n",
    "    num = int(input(\"Introduce un número:\"))\n",
    "    print(num)\n",
    "\n",
    "    if (num > 0):\n",
    "        loop = False\n",
    "    else:\n",
    "        print(\"El número debe ser entero y positivo\")\n",
    "\n",
    "pre = 0\n",
    "num_str = str(num)\n",
    "for i in range(0, len(num_str)):\n",
    "    pre += int(num_str[i])\n",
    "\n",
    "print(f\"El total es: {pre}\")\n",
    "        \n"
   ]
  },
  {
   "cell_type": "markdown",
   "metadata": {
    "id": "2iVxRgvs2Jla"
   },
   "source": [
    "### 3º Imprimir por consola los números entre el 5 y el 20, saltando de tres en tres."
   ]
  },
  {
   "cell_type": "code",
   "execution_count": 12,
   "metadata": {
    "id": "6QVxEmX92Rmo"
   },
   "outputs": [
    {
     "name": "stdout",
     "output_type": "stream",
     "text": [
      "[5, 8, 11, 14, 17, 20]\n"
     ]
    }
   ],
   "source": [
    "array = []\n",
    "for i in range(5, 21, +3):\n",
    "    array.append(i)\n",
    "\n",
    "print(array)"
   ]
  },
  {
   "cell_type": "markdown",
   "metadata": {
    "id": "g7rwO386P4Sg"
   },
   "source": [
    "### 4º Introducir números enteros por el teclado hasta introducir un cero, en cuyo caso el bucle terminará. Visualizar por consola cual ha sido el mayor número de los introducidos.\n",
    "NOTA: no uses listas."
   ]
  },
  {
   "cell_type": "code",
   "execution_count": 6,
   "metadata": {
    "id": "_1xwxeTpQQy2"
   },
   "outputs": [
    {
     "name": "stdout",
     "output_type": "stream",
     "text": [
      "Introduce un número: 1\n",
      "Introduce un número: 2\n",
      "Introduce un número: 3\n",
      "Introduce un número: 4\n",
      "Introduce un número: 5\n",
      "Introduce un número: 6\n",
      "Introduce un número: 10\n",
      "Introduce un número: 7\n",
      "Introduce un número: 8\n",
      "Introduce un número: 9\n",
      "Introduce un número: 0\n",
      "El mayor ha sido: 10\n"
     ]
    }
   ],
   "source": [
    "\n",
    "max = None\n",
    "loop = True\n",
    "while (loop):\n",
    "    print(\"Introduce un número:\", end = \" \")\n",
    "    num = int(input(\"Introduce un número:\"))\n",
    "    print(num)\n",
    "\n",
    "    if (max == None or max < num):\n",
    "        max = num\n",
    "\n",
    "    if (num == 0):\n",
    "        loop = False\n",
    "\n",
    "print(f\"El mayor ha sido: {max}\")"
   ]
  },
  {
   "cell_type": "markdown",
   "metadata": {
    "id": "0jNOQSVyOcRH"
   },
   "source": [
    "### 5º Introducir por teclado un número. Visualizar por consola todos los números divisores del número introducido."
   ]
  },
  {
   "cell_type": "code",
   "execution_count": null,
   "metadata": {
    "id": "SrubYYLhOseP"
   },
   "outputs": [
    {
     "name": "stdout",
     "output_type": "stream",
     "text": [
      "Introduce un número:45\n",
      "[1, 3, 5, 9, 15, 45]\n"
     ]
    }
   ],
   "source": [
    "# Obtine todos los divisores de \"a\"\n",
    "def getDivisores(a):\n",
    "    array = []\n",
    "    for i in range(1, a+1):\n",
    "        if (a % i == 0):\n",
    "            array.append(i)\n",
    "\n",
    "    return array\n",
    "\n",
    "\n",
    "print(\"Introduce un número:\", end = \"\")\n",
    "num = int(input(\"Introduce un número:\"))\n",
    "print(num)\n",
    "\n",
    "print(getDivisores(num))"
   ]
  },
  {
   "cell_type": "markdown",
   "metadata": {
    "id": "0ZauF23ozGUD"
   },
   "source": [
    "### 6º Introducir por teclado una palabra y comprobar si es un palíndromo y visualizarlo por consola. Un palíndromo es una palabra que se lee igual de derechas que de izquierdas (Ejemplo: OSO)"
   ]
  },
  {
   "cell_type": "code",
   "execution_count": null,
   "metadata": {
    "id": "QnkHvuckzb_m"
   },
   "outputs": [
    {
     "name": "stdout",
     "output_type": "stream",
     "text": [
      "Introduce un texto: Oso\n",
      "Es un palíndromo\n"
     ]
    }
   ],
   "source": [
    "print(\"Introduce un texto: \", end = \"\")\n",
    "text = input(\"Introduce un texto:\")\n",
    "print(text)\n",
    "\n",
    "if (text.strip().lower() == text.strip().lower()[::-1]):\n",
    "    print(\"Es un palíndromo\")\n",
    "else:  \n",
    "    print(\"No es un palíndromo\")\n",
    "\n"
   ]
  },
  {
   "cell_type": "markdown",
   "metadata": {
    "id": "v1LDAJL80pjQ"
   },
   "source": [
    "### 7º Crear un algoritmo que muestre los primeros 10 números de la sucesión de Fibonacci. La sucesión de Fibonacci comienza con los números 0 y 1 y, a partir de éstos, cada elemento es la suma de los dos números anteriores en la secuencia: 0, 1, 1, 2, 3, 5, 8, 13, 21, 34, 55, ..."
   ]
  },
  {
   "cell_type": "code",
   "execution_count": 5,
   "metadata": {
    "id": "9SOk0VEh07fp"
   },
   "outputs": [
    {
     "name": "stdout",
     "output_type": "stream",
     "text": [
      "[0, 1, 2, 3, 5, 8, 13, 21, 34, 55]\n"
     ]
    }
   ],
   "source": [
    "array = []\n",
    "\n",
    "pre1 = 0\n",
    "pre2 = 1\n",
    "total = 0\n",
    "for i in range(0, 10):\n",
    "    array.append(total)\n",
    "    total = pre1 + pre2\n",
    "\n",
    "    pre1 = pre2\n",
    "    pre2 = total\n",
    "\n",
    "print(array)"
   ]
  },
  {
   "cell_type": "markdown",
   "metadata": {
    "id": "6tNkqKY82hkH"
   },
   "source": [
    "### 8º Introducir por teclado una edad y el año actual. Visualizar por consola todos los años que han pasado desde su año de nacimiento hasta el año actual (ambos incluidos)"
   ]
  },
  {
   "cell_type": "code",
   "execution_count": 33,
   "metadata": {
    "id": "GZKs4i7x3DR4"
   },
   "outputs": [
    {
     "name": "stdout",
     "output_type": "stream",
     "text": [
      "Introduce tu edad: 20\n",
      "Introduce un año: 2024\n",
      "En 2004 tenías: 0\n",
      "En 2005 tenías: 1\n",
      "En 2006 tenías: 2\n",
      "En 2007 tenías: 3\n",
      "En 2008 tenías: 4\n",
      "En 2009 tenías: 5\n",
      "En 2010 tenías: 6\n",
      "En 2011 tenías: 7\n",
      "En 2012 tenías: 8\n",
      "En 2013 tenías: 9\n",
      "En 2014 tenías: 10\n",
      "En 2015 tenías: 11\n",
      "En 2016 tenías: 12\n",
      "En 2017 tenías: 13\n",
      "En 2018 tenías: 14\n",
      "En 2019 tenías: 15\n",
      "En 2020 tenías: 16\n",
      "En 2021 tenías: 17\n",
      "En 2022 tenías: 18\n",
      "En 2023 tenías: 19\n",
      "En 2024 tenías: 20\n"
     ]
    }
   ],
   "source": [
    "print(\"Introduce tu edad:\", end = \" \")\n",
    "age = int(input(\"Introduce tu edad:\"))\n",
    "print(age)\n",
    "\n",
    "print(\"Introduce un año:\", end = \" \")\n",
    "year = int(input(\"Introduce tu año:\"))\n",
    "print(year)\n",
    "\n",
    "for i in range(year - age, year + 1):\n",
    "    print(f\"En {i} tenías: {age - (year-i)}\")\n"
   ]
  },
  {
   "cell_type": "markdown",
   "metadata": {
    "id": "jXZHzYEq3JsQ"
   },
   "source": [
    "### 9º Realizar un algoritmo que muestre el sumatorio de todos los múltiplos de 3 encontrados entre el 0 y el 100."
   ]
  },
  {
   "cell_type": "code",
   "execution_count": null,
   "metadata": {
    "id": "alRMhSc73Wlg"
   },
   "outputs": [
    {
     "name": "stdout",
     "output_type": "stream",
     "text": [
      "1683\n"
     ]
    }
   ],
   "source": [
    "seeSum = False # Si quieres ver la suma cambia el flag a True\n",
    "\n",
    "total = 0\n",
    "strtotal = \"\"\n",
    "for i in range(0, 101):\n",
    "    if (i % 3 == 0):\n",
    "        if (seeSum):\n",
    "            if (i != 99):\n",
    "                strtotal += str(i) + \" + \"\n",
    "            else:\n",
    "                strtotal += str(i) + \" = \"\n",
    "\n",
    "        total += i\n",
    "\n",
    "print(f\"{strtotal}{total}\")"
   ]
  },
  {
   "cell_type": "markdown",
   "metadata": {
    "id": "qButIKkn37-H"
   },
   "source": [
    "### 10º Realizar un algoritmo que imprima por consola los números primos de los 100 primeros números (1 a 100). Número primo es aquel que solo es divisible por la unidad y por si mismo. "
   ]
  },
  {
   "cell_type": "code",
   "execution_count": null,
   "metadata": {
    "id": "DFc9sDLE4URf"
   },
   "outputs": [
    {
     "name": "stdout",
     "output_type": "stream",
     "text": [
      "[2, 3, 5, 7, 11, 13, 17, 19, 23, 29, 31, 37, 41, 43, 47, 53, 59, 61, 67, 71, 73, 79, 83, 89, 97]\n"
     ]
    }
   ],
   "source": [
    "# Define si el número \"a\" es un número Primo\n",
    "def isPrimo(a):\n",
    "    count = 0\n",
    "    for i in range(1, a+1):\n",
    "        if (a % i == 0):\n",
    "            count += 1\n",
    "    return a == 1 or count <= 2\n",
    "\n",
    "array = []\n",
    "for i in range(2, 101):\n",
    "    if (isPrimo(i)):\n",
    "        array.append(i)\n",
    "\n",
    "print(array)"
   ]
  }
 ],
 "metadata": {
  "colab": {
   "collapsed_sections": [],
   "private_outputs": true,
   "provenance": []
  },
  "kernelspec": {
   "display_name": ".venv",
   "language": "python",
   "name": "python3"
  },
  "language_info": {
   "codemirror_mode": {
    "name": "ipython",
    "version": 3
   },
   "file_extension": ".py",
   "mimetype": "text/x-python",
   "name": "python",
   "nbconvert_exporter": "python",
   "pygments_lexer": "ipython3",
   "version": "3.13.0"
  }
 },
 "nbformat": 4,
 "nbformat_minor": 0
}
