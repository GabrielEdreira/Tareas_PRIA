{
 "cells": [
  {
   "cell_type": "code",
   "execution_count": 78,
   "metadata": {},
   "outputs": [],
   "source": [
    "# import kagglehub\n",
    "\n",
    "# # Download latest version\n",
    "# path = kagglehub.dataset_download(\"solomonameh/spotify-music-dataset\")\n",
    "\n",
    "# print(\"Path to dataset files:\", path)"
   ]
  },
  {
   "cell_type": "code",
   "execution_count": 2,
   "metadata": {},
   "outputs": [
    {
     "name": "stdout",
     "output_type": "stream",
     "text": [
      "91205\n",
      "48894\n"
     ]
    }
   ],
   "source": [
    "import pandas as pd\n",
    "\n",
    "df_low = pd.read_csv(\"Datos/low_popularity_spotify_data.csv\") \n",
    "df_high = pd.read_csv(\"Datos/high_popularity_spotify_data.csv\") \n",
    "\n",
    "df_low.sample()\n",
    "df_low = df_low[:]\n",
    "\n",
    "print(df_low.size)\n",
    "print(df_high.size)"
   ]
  },
  {
   "cell_type": "code",
   "execution_count": 1,
   "metadata": {},
   "outputs": [
    {
     "ename": "NameError",
     "evalue": "name 'df_low' is not defined",
     "output_type": "error",
     "traceback": [
      "\u001b[1;31m---------------------------------------------------------------------------\u001b[0m",
      "\u001b[1;31mNameError\u001b[0m                                 Traceback (most recent call last)",
      "Cell \u001b[1;32mIn[1], line 7\u001b[0m\n\u001b[0;32m      4\u001b[0m \u001b[38;5;66;03m# Crear el grafo\u001b[39;00m\n\u001b[0;32m      5\u001b[0m G \u001b[38;5;241m=\u001b[39m nx\u001b[38;5;241m.\u001b[39mGraph()\n\u001b[1;32m----> 7\u001b[0m \u001b[38;5;28;01mfor\u001b[39;00m _, row \u001b[38;5;129;01min\u001b[39;00m \u001b[43mdf_low\u001b[49m\u001b[38;5;241m.\u001b[39miterrows():\n\u001b[0;32m      8\u001b[0m     \u001b[38;5;66;03m# Agregar nodos de canciones con atributos\u001b[39;00m\n\u001b[0;32m      9\u001b[0m     G\u001b[38;5;241m.\u001b[39madd_node(row[\u001b[38;5;124m'\u001b[39m\u001b[38;5;124mtrack_name\u001b[39m\u001b[38;5;124m'\u001b[39m]\u001b[38;5;241m.\u001b[39mreplace(\u001b[38;5;124m'\u001b[39m\u001b[38;5;124m$\u001b[39m\u001b[38;5;124m'\u001b[39m, \u001b[38;5;124m'\u001b[39m\u001b[38;5;124m'\u001b[39m), \u001b[38;5;28mtype\u001b[39m\u001b[38;5;241m=\u001b[39m\u001b[38;5;124m\"\u001b[39m\u001b[38;5;124mCanción\u001b[39m\u001b[38;5;124m\"\u001b[39m)\n\u001b[0;32m     11\u001b[0m     \u001b[38;5;66;03m# Agregar nodos de artistas\u001b[39;00m\n",
      "\u001b[1;31mNameError\u001b[0m: name 'df_low' is not defined"
     ]
    }
   ],
   "source": [
    "import networkx as nx\n",
    "import matplotlib.pyplot as plt\n",
    "\n",
    "# Crear el grafo\n",
    "G = nx.Graph()\n",
    "\n",
    "for _, row in df_low.iterrows():\n",
    "    # Agregar nodos de canciones con atributos\n",
    "    G.add_node(row['track_name'].replace('$', ''), type=\"Canción\")\n",
    "\n",
    "    # Agregar nodos de artistas\n",
    "    G.add_node(row['track_artist'].replace('$', ''), type=\"Artista\")\n",
    "\n",
    "    # Agregar nodos de géneros\n",
    "    G.add_node(row['playlist_genre'].replace('$', ''), type=\"Género\")\n",
    "\n",
    "    G.add_edge(row['track_name'].replace('$', ''), row['track_artist'].replace('$', ''))\n",
    "    G.add_edge(row['track_name'].replace('$', ''), row['playlist_genre'].replace('$', ''))\n",
    "\n",
    "# Dibujar el grafo\n",
    "plt.figure(figsize=(12, 10))\n",
    "pos = nx.circular_layout(G)  # Algoritmo para distribuir nodos\n",
    "\n",
    "# Colorear nodos según su tipo\n",
    "node_colors = [\n",
    "    \"orange\" if G.nodes[node][\"type\"] == \"Canción\" else\n",
    "    \"red\" if G.nodes[node][\"type\"] == \"Artista\" else\n",
    "    \"black\"\n",
    "    for node in G.nodes\n",
    "]\n",
    "\n",
    "nx.draw(\n",
    "    G, pos, with_labels=True, node_color=node_colors, \n",
    "    node_size=300, font_size=6, font_color=\"black\", edge_color=\"gray\"\n",
    ")\n",
    "\n",
    "plt.title(\"Red de Canciones por Artistas y Géneros\", fontsize=16)\n",
    "plt.show()"
   ]
  }
 ],
 "metadata": {
  "kernelspec": {
   "display_name": ".venv",
   "language": "python",
   "name": "python3"
  },
  "language_info": {
   "codemirror_mode": {
    "name": "ipython",
    "version": 3
   },
   "file_extension": ".py",
   "mimetype": "text/x-python",
   "name": "python",
   "nbconvert_exporter": "python",
   "pygments_lexer": "ipython3",
   "version": "3.13.0"
  }
 },
 "nbformat": 4,
 "nbformat_minor": 2
}
