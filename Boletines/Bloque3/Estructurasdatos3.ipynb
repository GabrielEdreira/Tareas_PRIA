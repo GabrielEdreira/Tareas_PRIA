{
 "cells": [
  {
   "cell_type": "markdown",
   "metadata": {
    "id": "AOVhIYq2YwAg"
   },
   "source": [
    "<center>\n",
    "<h1 style=\"color: #007BC4;\">Python</h1> \n",
    "<h3 style=\"color: #333333;\">Ejercicios Estructuras de datos III</h3> \n",
    "</center>\n",
    "\n",
    "<br>\n"
   ]
  },
  {
   "cell_type": "markdown",
   "metadata": {},
   "source": [
    "#### Autor: Gabriel Antonio Edreira Garcia"
   ]
  },
  {
   "cell_type": "markdown",
   "metadata": {
    "id": "bcyLTkBIdvuj"
   },
   "source": [
    "### 1. Calcula el módulo de un vector de $n$ elementos, introducidos por teclado.\n",
    "\n",
    "Sea $\\vec{x}=(v_1,v_2, ..., v_n)$ entonces $ |\\vec{x}|=\\sqrt{v_1²+v_2²+ ... +v_n²} $\n",
    "\n"
   ]
  },
  {
   "cell_type": "code",
   "execution_count": 3,
   "metadata": {
    "colab": {
     "base_uri": "https://localhost:8080/"
    },
    "id": "400yNqbMgl6Q",
    "outputId": "f76c9547-fdd0-4d24-99a6-42c130be419f"
   },
   "outputs": [
    {
     "name": "stdout",
     "output_type": "stream",
     "text": [
      "Introduzca un valor (0 para parar): 1\n",
      "Introduzca un valor (0 para parar): 2\n",
      "Introduzca un valor (0 para parar): 3\n",
      "Introduzca un valor (0 para parar): 4\n",
      "Introduzca un valor (0 para parar): \n",
      "5.477225575051661\n"
     ]
    }
   ],
   "source": [
    "import math\n",
    "\n",
    "def calculateModule():\n",
    "    array = list()\n",
    "    loop = True\n",
    "    while(loop):\n",
    "        print(\"Introduzca un valor (0 para parar):\", end=\" \")\n",
    "        num = input(\"Introduzca un valor (0 para parar): \").strip()\n",
    "        print(num)\n",
    "        \n",
    "        if (num == \"\"):\n",
    "            loop = False\n",
    "        else:\n",
    "            try:\n",
    "                val = int(num)\n",
    "                array.append(val)\n",
    "            except:\n",
    "                print(\"Valor inválido.\")\n",
    "\n",
    "    return array\n",
    "    \n",
    "def absForArray(list):\n",
    "    total = 0\n",
    "    for item in list:\n",
    "        total += item**2\n",
    "    return math.sqrt(total)\n",
    "\n",
    "def main():\n",
    "    print(absForArray(calculateModule()))\n",
    "if __name__ == \"__main__\":\n",
    "    main()\n",
    "    "
   ]
  },
  {
   "cell_type": "markdown",
   "metadata": {
    "id": "a_R5LVwDgmxz"
   },
   "source": [
    "### 2. Crea una función a la que le pasas una lista de caracteres (string) y devuelve si es un palíndromo o no"
   ]
  },
  {
   "cell_type": "code",
   "execution_count": 10,
   "metadata": {
    "colab": {
     "base_uri": "https://localhost:8080/"
    },
    "id": "Y_sXGqPyg7Dq",
    "outputId": "e276397a-1304-4472-fd62-da72a93c5dfd"
   },
   "outputs": [
    {
     "name": "stdout",
     "output_type": "stream",
     "text": [
      "Inserte un texto: ())(\n",
      "El texto: ())( es un palíndromo.\n"
     ]
    }
   ],
   "source": [
    "\n",
    "def isPalindromo(str1:str) -> bool:\n",
    "    if (str1 == None):\n",
    "        return False\n",
    "\n",
    "    str1 = str1.replace(' ', '').lower()\n",
    "    inverted = str1[::-1]\n",
    "\n",
    "    if (str1 == inverted):\n",
    "        return True\n",
    "    else:\n",
    "        return False\n",
    "\n",
    "def main():\n",
    "    print(\"Inserte un texto:\", end=\" \")\n",
    "    text = input(\"Inserte un texto: \")\n",
    "    print(text)\n",
    "\n",
    "    if(isPalindromo(text)):\n",
    "        print(f\"El texto: {text} es un palíndromo.\")\n",
    "    else:\n",
    "        print(f\"El texto: {text} NO es un palíndromo.\")\n",
    "if __name__ == \"__main__\":\n",
    "    main()"
   ]
  },
  {
   "cell_type": "markdown",
   "metadata": {
    "id": "wsa-auaig8mD"
   },
   "source": [
    "### 3. Crea una función que recibe una lista de números y devuelve dos listas (una tupla), una con los números pares y otra con los impares."
   ]
  },
  {
   "cell_type": "code",
   "execution_count": 12,
   "metadata": {
    "colab": {
     "base_uri": "https://localhost:8080/"
    },
    "id": "RIGcBEmFhM5F",
    "outputId": "97e37651-0b7c-4169-b401-2a83dc0fa8e7"
   },
   "outputs": [
    {
     "name": "stdout",
     "output_type": "stream",
     "text": [
      "Pares: [2, 6, 10]\n",
      "Impares: [-1, 5, 7]\n"
     ]
    }
   ],
   "source": [
    "def separateNumbers(lista:list):\n",
    "    par = list()\n",
    "    impar = list()\n",
    "\n",
    "    for item in lista:\n",
    "        if (item % 2 == 0):\n",
    "            par.append(item)\n",
    "        else:\n",
    "            impar.append(item)\n",
    "    \n",
    "    return (par, impar)\n",
    "\n",
    "def main():\n",
    "    val = separateNumbers([-1, 2, 6, 5, 7, 10])\n",
    "    print(f\"Pares: {val[0]}\")\n",
    "    print(f\"Impares: {val[1]}\")\n",
    "if __name__ == \"__main__\":\n",
    "    main()"
   ]
  },
  {
   "cell_type": "markdown",
   "metadata": {
    "id": "PW_ZVoYchr10"
   },
   "source": [
    "### Elabora un código que rellene de forma aleatoria una lista de 10 elementos y luego la ordene.\n",
    "Existen multitud de fuentes en Internet con la solución en Python del algoritmo Bubble Sort, resiste la tentación y hazlo por ti mismo.\n",
    "\n"
   ]
  },
  {
   "cell_type": "code",
   "execution_count": 22,
   "metadata": {
    "colab": {
     "base_uri": "https://localhost:8080/"
    },
    "id": "dlCbrsgmkY9j",
    "outputId": "66b076e2-87d8-4f17-eb69-266371ea677e"
   },
   "outputs": [
    {
     "name": "stdout",
     "output_type": "stream",
     "text": [
      "[17, 18, 25, 32, 41, 48, 52, 64, 67, 70]\n"
     ]
    }
   ],
   "source": [
    "import random as r\n",
    "\n",
    "def fullList(list):\n",
    "    for _ in range(0, 10):\n",
    "        list.append(r.randint(1, 100))\n",
    "    \n",
    "    return list\n",
    "\n",
    "def main():\n",
    "    val = fullList(list())\n",
    "    val.sort()\n",
    "    print(val)\n",
    "if __name__ == \"__main__\":\n",
    "    main()\n",
    "\n",
    "\n"
   ]
  },
  {
   "cell_type": "markdown",
   "metadata": {
    "id": "dwFqJi41khAT"
   },
   "source": [
    "### 4. Elabora dos funciones (codificar, decodificar) que reciban un texto y una clave y que encripten/desencripten el texto usando la clave.\n",
    "Usa el método del [cifrado de sustitución por desplazamiento](https://es.wikipedia.org/wiki/Cifrado_C%C3%A9sar). La clave es un número $n$, sólo codificas letras y las sustituyes desplazando la letra $n$ veces. Por ejemplo, si la clave es 1, entonces $a$ pasa a ser $b$.\n",
    "\n",
    "Hazlo sólo para letras inglesas (26).\n"
   ]
  },
  {
   "cell_type": "code",
   "execution_count": 48,
   "metadata": {
    "colab": {
     "base_uri": "https://localhost:8080/"
    },
    "id": "OnQqyIPIkyTF",
    "outputId": "d5208665-c0b4-4b22-df44-49641cd115f8"
   },
   "outputs": [
    {
     "name": "stdout",
     "output_type": "stream",
     "text": [
      "Hrod txh wdo?\n",
      "Hola que tal?\n"
     ]
    }
   ],
   "source": [
    "import random as r\n",
    "\n",
    "encondeStr = \"abcdefghijklmnopqrstuvwxyz\"\n",
    "encondeStrUpper = encondeStr.upper\n",
    "\n",
    "def EncodeOrDecodeString(str:str, clave:int, encode = True) -> str:\n",
    "    result = \"\"\n",
    "    for c in str:\n",
    "        try:\n",
    "            index = encondeStr.index(c)\n",
    "        except:\n",
    "            result += c\n",
    "            continue\n",
    "        \n",
    "        if(encode):\n",
    "            pos = index + clave\n",
    "            while (pos >= len(encondeStr)):\n",
    "                pos = pos - len(encondeStr)\n",
    "        else:\n",
    "            pos = index - clave\n",
    "            while (pos < 0):\n",
    "                pos = pos + len(encondeStr)\n",
    "        \n",
    "\n",
    "        pos = abs(pos)\n",
    "        result += encondeStr[pos]\n",
    "    \n",
    "    return result\n",
    "\n",
    "\n",
    "def main():\n",
    "    clave = r.randint(1, 100)\n",
    "    val = EncodeOrDecodeString(\"Hola que tal?\", clave)\n",
    "    print(val)\n",
    "    print(EncodeOrDecodeString(val, clave, False))\n",
    "if __name__ == \"__main__\":\n",
    "    main()"
   ]
  },
  {
   "cell_type": "markdown",
   "metadata": {},
   "source": [
    "### 5. Realizar un programa que permita generar un ticket de compra. \n",
    "Un ticket podrá incluir varios productos (frutas en este caso) con la información del peso y el precio (peso x precio_por_kg).\n",
    "\n",
    "<pre>\n",
    "El listado de precios (precio por kg) se creará de forma estática en el programa con un diccionario:\n",
    "\n",
    "    pera\t\t1.25\n",
    "    naranja\t\t1.70\n",
    "    manzana\t\t1.55\n",
    "    kiwi\t\t2.90\n",
    "    mandarina\t\t1.19\n",
    "    fresa\t\t3.75\n",
    "</pre>\n",
    "El ticket que generará la aplicación se almacenará en un diccionario. Cada entrada del diccionario contendrá los datos de un producto incluido en la compra, donde la clave será el nombre del producto (fruta). Ejemplo:\n",
    "<pre>\n",
    "    {\n",
    "    'naranja': {'peso': 1.5, 'precio': 2.55},\n",
    "    'pera': {'peso': 2.0, 'precio': 2.5}\n",
    "    }\n",
    "</pre>\n",
    "El programa pedirá al usuario iterativamente los productos que conformarán un ticket y sus datos (nombre_producto, peso), y se añadirá al ticket (calculado su precio en función del peso).\n",
    "\n",
    "Debe comprobarse que el producto seleccionado exista en la tabla de precios.\n",
    "\n",
    "Si el producto seleccionado fue ya añadido al ticket se indicará con un mensaje y no se modificará.\n",
    "\n",
    "Una vez se ha terminado de generar el ticket, se mostrará por pantalla. Ejemplo de ejecución:\n",
    "<pre>\n",
    "--- Precios\tpara\thoy ---\n",
    "pera\t\t1.25\n",
    "naranja\t\t1.70\n",
    "manzana\t\t1.55\n",
    "kiwi\t\t2.90\n",
    "mandarina\t\t1.19\n",
    "fresa\t\t3.75\n",
    "\n",
    "¿Producto?\n",
    "¿Peso? 1\t\n",
    "pera\t\n",
    "¿Más productos (si/no)? si\n",
    "¿Producto? naranja\n",
    "¿Peso? 3.5\n",
    "¿Más productos (si/no)? no\n",
    "\n",
    "\n",
    "--- Ticket ---\t\n",
    "pera\t1.00 kg\t1.25 euros\n",
    "naranja\t3.50 kg\t5.95 euros\n",
    "\n",
    "</pre>\n"
   ]
  },
  {
   "cell_type": "code",
   "execution_count": 108,
   "metadata": {},
   "outputs": [
    {
     "name": "stdout",
     "output_type": "stream",
     "text": [
      "--- Precios\tpara\thoy ---\n",
      "mandarina    \tpara\t1.19\t\n",
      "naranja    \tpara\t1.7\t\n",
      "manzana    \tpara\t1.55\t\n",
      "fresa    \tpara\t3.75\t\n",
      "pera    \tpara\t1.25\t\n",
      "kiwi    \tpara\t2.9\t\n",
      "--- Ticket ---\n",
      "mandarina\t10kg 11.899999999999999 euros\n",
      "\n"
     ]
    }
   ],
   "source": [
    "\n",
    "stock = {\n",
    "    \"mandarina\": 1.19,\n",
    "    \"naranja\": 1.70,\n",
    "    \"manzana\": 1.55,\n",
    "    \"fresa\": 3.75,\n",
    "    \"pera\": 1.25,\n",
    "    \"kiwi\": 2.90,\n",
    " }\n",
    "\n",
    "def main():\n",
    "    print(\"--- Precios\\tpara\\thoy ---\")\n",
    "    for key, value in stock.items():\n",
    "        print(f\"{key}    \\tpara\\t{value}\\t\")\n",
    "\n",
    "    loop = True\n",
    "    ticket = \"--- Ticket ---\\n\"\n",
    "    while (loop):\n",
    "        producto = input(\"¿Producto? \").strip()\n",
    "\n",
    "        try:\n",
    "            peso = int(input(\"¿Peso? \").strip())\n",
    "\n",
    "            if (stock.keys().__contains__(producto)):\n",
    "                ticket += f\"{producto}\\t{peso}kg {(stock[producto] * peso).round(2)} euros\\n\"\n",
    "            else:\n",
    "                print(\"No existe dicho elemento.\")\n",
    "        except:\n",
    "            print()\n",
    "\n",
    "        loop = input(\"¿Más productos (si/no)? \").strip() == \"si\"\n",
    "\n",
    "    print(f\"\\n{ticket}\")\n",
    "\n",
    "if __name__ == \"__main__\":\n",
    "    main()"
   ]
  },
  {
   "cell_type": "markdown",
   "metadata": {
    "id": "kk6D97EInqEk"
   },
   "source": [
    "### 6. ¿Jugamos al póker?\n",
    "\n",
    "Reparte 5 cartas a cada jugador y analiza quien tiene la mano ganadora.\n",
    "\n",
    "**Escalera de color**: cinco cartas consecutivas del mismo palo.\n",
    "\n",
    "**Poker**: cuatro cartas iguales y una diferente (kicker).\n",
    "\n",
    "**Full house**: tres cartas del mismo valor y dos cartas de un valor distinto, pero coincidentes entre ellas.\n",
    "\n",
    "**Color**: cinco cartas del mismo palo.\n",
    "\n",
    "**Escalera**: cinco cartas consecutivas.\n",
    "\n",
    "**Trío**: tres cartas del mismo valor y dos de un valor diferente.\n",
    "\n",
    "**Doble pareja**: dos cartas del mismo valor, combinadas con otras dos cartas del mismo valor y una quinta diferente.\n",
    "\n",
    "**Pareja**: dos cartas del mismo valor y tres de valores diferentes.\n",
    "\n",
    "**Carta alta**: cualquier mano que no pertenece a ninguna de las categorías anteriores.\n"
   ]
  },
  {
   "cell_type": "code",
   "execution_count": 100,
   "metadata": {
    "colab": {
     "base_uri": "https://localhost:8080/"
    },
    "id": "OJbBKpWqnuxi",
    "outputId": "110ca3d8-de7d-43ff-a390-db2aebc5cbde"
   },
   "outputs": [
    {
     "name": "stdout",
     "output_type": "stream",
     "text": [
      "Alice:\t[('♢', '6'), ('♠', '6'), ('♢', '8'), ('♡', '10'), ('♠', 'K')]\n",
      "Bob:\t[('♣', '9'), ('♡', '9'), ('♡', 'A'), ('♠', 'A'), ('♣', 'A')]\n",
      "Carol:\t[('♣', '2'), ('♣', '4'), ('♣', '7'), ('♢', 'Q'), ('♣', 'K')]\n",
      "David:\t[('♢', '3'), ('♣', '3'), ('♠', '5'), ('♣', '5'), ('♡', 'J')]\n",
      "\n",
      "Ha ganado ['Bob']\n"
     ]
    }
   ],
   "source": [
    "import random;\n",
    "\n",
    "PALOS = '♠ ♡ ♢ ♣'.split(' ')\n",
    "RANGO = '2 3 4 5 6 7 8 9 10 J Q K A'.split(' ')\n",
    "JUGADORES = 'Alice Bob Carol David'.split(' ')\n",
    "VALUES = {'2':2, '3':3, '4':4, '5':5, '6':6, '7':7, '8':8, '9':9, '10':10, 'J':11, 'Q':12, 'K':13, 'A':14}\n",
    "\n",
    "global mano; \n",
    "mano = dict()\n",
    "\n",
    "def ReparteCartas(show = False):\n",
    "    mazo = [(p, r) for r in RANGO for p in PALOS]\n",
    "\n",
    "    random.shuffle(mazo)\n",
    "\n",
    "    for j in JUGADORES:\n",
    "        mano[j] = sorted((mazo[:5]), key=lambda item: VALUES[item[1]])\n",
    "        mazo = mazo[5:]\n",
    "        if (show):\n",
    "            printManos()\n",
    "def printManos():\n",
    "    global mano; \n",
    "    for j in JUGADORES:\n",
    "        print(\"{}:\\t{}\".format(j,mano[j]))\n",
    "\n",
    "def defineHandValue(cartas):\n",
    "    handValue = 0\n",
    "\n",
    "    palos = [carta[0] for carta in cartas]\n",
    "    numeros = [carta[1] for carta in cartas]\n",
    "\n",
    "    count_palos = {'♠':palos.count('♠'), '♡':palos.count('♡'), '♢':palos.count('♢'), '♣':palos.count('♣')}\n",
    "\n",
    "    count_numeros = {}\n",
    "    for i in range(2, 15):\n",
    "        if (i < 11):\n",
    "            count_numeros[i] = numeros.count(str(i))\n",
    "        elif (i == 11):\n",
    "            count_numeros[i] = numeros.count('J')\n",
    "        elif (i == 12):\n",
    "            count_numeros[i] = numeros.count('Q')\n",
    "        elif (i == 13):\n",
    "            count_numeros[i] = numeros.count('K')\n",
    "        elif (i == 14):\n",
    "            count_numeros[i] = numeros.count('A')\n",
    "    count_numeros = dict(filter(lambda x: x[1] > 0, count_numeros.items()))\n",
    "\n",
    "    par = 0\n",
    "    trio = 0\n",
    "    for combination in count_numeros.values():\n",
    "        if (combination == 4):\n",
    "            handValue = max(handValue, 8) #Poker\n",
    "        elif (combination == 3):\n",
    "            trio += 1\n",
    "            handValue = max(handValue, 4) # Trio\n",
    "        elif (combination == 2):\n",
    "            par += 1\n",
    "            handValue = max(handValue, 2) #Pareja\n",
    "            if (par == 2):\n",
    "                handValue = max(handValue, 3) #Doble Pareja\n",
    "\n",
    "    if (par == 1 and trio == 1):\n",
    "        handValue = max(handValue, 7) # Full House\n",
    "        \n",
    "    for combination in count_palos.values():\n",
    "        if (combination == 5):\n",
    "            handValue = max(handValue, 6) #Color\n",
    "\n",
    "    minHandValue = min(count_numeros.keys())\n",
    "    maxHandValue = max(count_numeros.keys())\n",
    "    maxCombination = max(count_numeros.values())\n",
    "    maxColorCombination = max(count_palos.values())\n",
    "    if (maxHandValue - minHandValue == 4 and maxCombination == 1):\n",
    "        if (maxColorCombination == 5):\n",
    "            handValue = max(handValue, 9) #Escalera de color\n",
    "        else:\n",
    "            handValue = max(handValue, 5) #Escalera\n",
    "\n",
    "    return handValue\n",
    "def desempateCartaAlta(empatados):\n",
    "    global mazo, mano\n",
    "    result = dict()\n",
    "\n",
    "    if (len(empatados) == 1):\n",
    "        return empatados\n",
    "\n",
    "    for j in empatados:\n",
    "        count_numeros = {}\n",
    "        for i in range(2, 15):\n",
    "            numeros = [carta[1] for carta in mano[j]]\n",
    "            if (i < 11):\n",
    "                count_numeros[i] = numeros.count(str(i))\n",
    "            elif (i == 11):\n",
    "                count_numeros[i] = numeros.count('J')\n",
    "            elif (i == 12):\n",
    "                count_numeros[i] = numeros.count('Q')\n",
    "            elif (i == 13):\n",
    "                count_numeros[i] = numeros.count('K')\n",
    "            elif (i == 14):\n",
    "                count_numeros[i] = numeros.count('A')\n",
    "        \n",
    "        count_numeros = dict(filter(lambda x: x[1] > 0, count_numeros.items()))\n",
    "        result[j] = max(count_numeros.keys())\n",
    "\n",
    "    return max(result, key=lambda x: result[x])\n",
    "\n",
    "def main(): \n",
    "    global mano\n",
    "    values = dict()\n",
    "\n",
    "#Si se quiere forzar cualquier valor de mazo usar esta parte comentada:\n",
    "# loop = True\n",
    "# while (loop):\n",
    "    ReparteCartas(False)\n",
    "    for j in JUGADORES:\n",
    "        values[j] = defineHandValue(mano[j])\n",
    "    # if (max(values.values()) == 9):\n",
    "    #     loop = False\n",
    "    \n",
    "    printManos()\n",
    "    \n",
    "    ganadores = list()\n",
    "    WinValue = max(values.values())\n",
    "    for j in JUGADORES:\n",
    "        if (values[j] == WinValue): ganadores.append(j)\n",
    "    ganadores = desempateCartaAlta(ganadores)\n",
    "\n",
    "    print(f\"\\nHa ganado {ganadores}\")\n",
    "if __name__ == \"__main__\":\n",
    "    main()\n",
    "\n"
   ]
  },
  {
   "cell_type": "code",
   "execution_count": null,
   "metadata": {
    "id": "gnVfCTzPn134"
   },
   "outputs": [],
   "source": []
  }
 ],
 "metadata": {
  "colab": {
   "collapsed_sections": [],
   "provenance": []
  },
  "kernelspec": {
   "display_name": "base",
   "language": "python",
   "name": "python3"
  },
  "language_info": {
   "codemirror_mode": {
    "name": "ipython",
    "version": 3
   },
   "file_extension": ".py",
   "mimetype": "text/x-python",
   "name": "python",
   "nbconvert_exporter": "python",
   "pygments_lexer": "ipython3",
   "version": "3.12.7"
  }
 },
 "nbformat": 4,
 "nbformat_minor": 0
}
