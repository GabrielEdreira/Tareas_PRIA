{
 "cells": [
  {
   "cell_type": "markdown",
   "metadata": {
    "id": "AduvH5ts7Kqh"
   },
   "source": [
    "<center>\n",
    "<h1 style=\"color: #007BC4;\">Python</h1> \n",
    "<h3 style=\"color: #333333;\">Ejercicios Estructuras de datos I</h3> \n",
    "</center>\n",
    "\n",
    "<br>"
   ]
  },
  {
   "cell_type": "markdown",
   "metadata": {},
   "source": [
    "#### Autor: Gabriel Antonio Edreira García"
   ]
  },
  {
   "cell_type": "markdown",
   "metadata": {
    "id": "sG-RH1ND-RzO"
   },
   "source": [
    "### 1. Haz que el usuario introduzca un texto y apartir de él crea un diccionario con las frecuencias de aparición de cada uno de los caracteres excepto el espacio en blanco.\n",
    "\n",
    "Por ejemplo: si el usuario introduce \"Hola mundo\", el dicccionario a crear y visualizar sería\n",
    "\n",
    "    { \"H\":1/9, \"o\":2/9, \"l\":1/9, \"a\":1/9, \"m\":1/9, \"u\":1/9, \"n\":1/9, \"d\":1/9 }\n",
    "\n",
    "también vale 1/9 = 0.111 y 2/9 = 0.222\n"
   ]
  },
  {
   "cell_type": "code",
   "execution_count": 6,
   "metadata": {
    "id": "XzHnRnN87IK4"
   },
   "outputs": [
    {
     "name": "stdout",
     "output_type": "stream",
     "text": [
      "Introduzca un texto: tyugvhabksda\n",
      "\n",
      "[\"'t':1/12\", \"'y':1/12\", \"'u':1/12\", \"'g':1/12\", \"'v':1/12\", \"'h':1/12\", \"'a':2/12\", \"'b':1/12\", \"'k':1/12\", \"'s':1/12\", \"'d':1/12\"]\n"
     ]
    }
   ],
   "source": [
    "# respuesta\n",
    "def getFrequency(text:str) -> dict:\n",
    "    total = 0\n",
    "    aux = dict()\n",
    "\n",
    "    for i in text:\n",
    "        if (i == ' '):\n",
    "            continue\n",
    "\n",
    "        total += 1\n",
    "        if aux.__contains__(i):\n",
    "            aux[i] += 1 \n",
    "        else:\n",
    "            aux[i] = 1\n",
    "\n",
    "    result = map(lambda kv: f\"'{kv[0]}':{kv[1]}/{total}\", aux.items())   \n",
    "    \n",
    "    return list(result)\n",
    "\n",
    "\n",
    "\n",
    "def main():\n",
    "    print(\"Introduzca un texto:\", end=\" \")\n",
    "    text = input(\"Introduzca un texto: \")\n",
    "    print(f\"{text}\\n\")\n",
    "\n",
    "    print(getFrequency(text))\n",
    "if __name__ == \"__main__\":\n",
    "    main()\n"
   ]
  },
  {
   "cell_type": "markdown",
   "metadata": {
    "id": "X2h4hDVCAZmz"
   },
   "source": [
    "### 2. A partir del ejercicio anterior, lista los caracteres según el orden de sus frecuencias, el más frecuente primero.\n",
    "\n",
    "Observa que no tienes que reperir el ejercicio anterior, sólo reusar sus variables."
   ]
  },
  {
   "cell_type": "code",
   "execution_count": 12,
   "metadata": {
    "id": "ZcJ0yVD3AwbP"
   },
   "outputs": [
    {
     "name": "stdout",
     "output_type": "stream",
     "text": [
      "Introduzca un texto: haiuhdiahduhaiwudh\n",
      "\n",
      "[\"'w':1/18\", \"'a':3/18\", \"'i':3/18\", \"'u':3/18\", \"'d':3/18\", \"'h':5/18\"]\n"
     ]
    }
   ],
   "source": [
    "# respuesta\n",
    "from fractions import Fraction\n",
    "\n",
    "def main():\n",
    "    print(\"Introduzca un texto:\", end=\" \")\n",
    "    text = input(\"Introduzca un texto: \")\n",
    "    print(f\"{text}\\n\")\n",
    "\n",
    "    aux = list(sorted(getFrequency(text), key = lambda item: str(Fraction(item.split(\":\")[1].replace(\"'\", \"\")))))\n",
    "    print(aux)\n",
    "if __name__ == \"__main__\":\n",
    "    main()\n"
   ]
  },
  {
   "cell_type": "markdown",
   "metadata": {
    "id": "oMCnVnUsBUsd"
   },
   "source": [
    "### 3. Lee un fichero de texto, línea por línea, teniendo cada una de ellas el siguiente formato\n",
    "\n",
    "    apellidos, nombre = teléfono\n",
    "\n",
    "Introduce esta información en un diccionario que tenga como clave \"*apellidos, nombre*\" y valor \"*teléfono*\". Elimina espacios en blanco innecesarios.\n",
    "\n",
    "**Atención**: *contempla que \"apellidos, nombre\" puede aparecer más de una vez y por tanto tener más de un \"teléfono\".*"
   ]
  },
  {
   "cell_type": "code",
   "execution_count": 8,
   "metadata": {
    "id": "79_TSspzCO62"
   },
   "outputs": [
    {
     "name": "stdout",
     "output_type": "stream",
     "text": [
      "{('Edreira', 'Gabby'): '999999999', ('Lopez', 'Ralphy'): '888888888', ('Edreira', 'Made'): '777777777', ('Manzanares', 'Mercedes'): '666666666', ('Montilla', 'Quique'): '555555555', ('NoseMeAburro', 'Jose'): '444444444'}\n"
     ]
    }
   ],
   "source": [
    "# respuesta\n",
    "with open('Estructuradedatos1.txt', 'r') as file:\n",
    "    result = dict()\n",
    "    for line in file:\n",
    "        line = line.strip()\n",
    "        \n",
    "        tlf = line.split('=')[1].strip()\n",
    "        nombre = line.split('=')[0].split(',')[1].strip()\n",
    "        apellidos = line.split('=')[0].split(',')[0].strip()\n",
    "\n",
    "        result[apellidos, nombre]= tlf\n",
    "\n",
    "print(result)"
   ]
  },
  {
   "cell_type": "markdown",
   "metadata": {
    "id": "taWJRYkhCsUe"
   },
   "source": [
    "### 4. Partiendo del ejercicio anterior, crea una estructura compleja.\n",
    "\n",
    "Lee el mismo fichero de texto, con el mismo contenido, pero crea una estructura de datos más compleja. \n",
    "\n",
    "Por ejemplo, para un fichero conteniendo:\n",
    "\n",
    "    Pérez López, Ana = 981234567\n",
    "    Pérez López, Manuel = 675897867\n",
    "    Calvo Amado, María = 985894523\n",
    "\n",
    "Deberías generar una estructura como la siguiente:\n",
    "\n",
    "    { \"Pérez López\": { \"Ana\":[981234567], \"Manuel\":[675897867] }, \"Calvo Amado\": { \"María\":[985894523] } }\n",
    "\n",
    "Esto es: un diccionario con la estructura \\<apellidos>:\\<valor>, donde \\<valor> es a su vez un diccionario con la estructura \\<nombre>:\\<valor>, donde \\<valor> a su vez es una lista de teléfonos.\n"
   ]
  },
  {
   "cell_type": "code",
   "execution_count": 20,
   "metadata": {
    "id": "m9slJeaiEUN2"
   },
   "outputs": [
    {
     "name": "stdout",
     "output_type": "stream",
     "text": [
      "{'Edreira': {'Gabby': '999999999', 'Made': '777777777'}, 'Lopez': {'Ralphy': '888888888'}, 'Manzanares': {'Mercedes': '666666666'}, 'Montilla': {'Quique': '555555555'}, 'NoseMeAburro': {'Jose': '444444444'}}\n"
     ]
    }
   ],
   "source": [
    "# respuesta\n",
    "\n",
    "global apellidos_dict\n",
    "apellidos_dict = dict()\n",
    "\n",
    "with open('Estructuradedatos1.txt', 'r') as file:\n",
    "    for line in file:\n",
    "        line = line.strip()\n",
    "        \n",
    "        tlf = line.split('=')[1].strip()\n",
    "        nombre = line.split('=')[0].split(',')[1].strip()\n",
    "        apellidos = line.split('=')[0].split(',')[0].strip()\n",
    "\n",
    "        if (not apellidos_dict.__contains__(apellidos)):\n",
    "            apellidos_dict[apellidos] = dict()\n",
    "           \n",
    "        apellidos_dict[apellidos][nombre] = tlf\n",
    "\n",
    "    print(apellidos_dict)\n",
    "\n",
    "        "
   ]
  },
  {
   "cell_type": "markdown",
   "metadata": {
    "id": "yihOZqkbFPdH"
   },
   "source": [
    "### 5. A partir de la estructura de datos que has creado en el ejercicio anterior, haz una función que reciba el diccionario y devuelva dos listas del mismo tamaño conteniendo, una \\<apellidos, nombre> y otra \\<teléfono>.\n",
    "\n",
    "**Atención**: cuidado con las personas con más de un teléfono."
   ]
  },
  {
   "cell_type": "code",
   "execution_count": 18,
   "metadata": {
    "id": "3A83CfvdIA4z"
   },
   "outputs": [
    {
     "name": "stdout",
     "output_type": "stream",
     "text": [
      "[('Edreira', 'Gabby'), ('Lopez', 'Ralphy'), ('Edreira', 'Made'), ('Manzanares', 'Mercedes'), ('Montilla', 'Quique'), ('NoseMeAburro', 'Jose')]\n",
      "['999999999', '888888888', '777777777', '666666666', '555555555', '444444444']\n"
     ]
    }
   ],
   "source": [
    "with open('Estructuradedatos1.txt', 'r') as file:\n",
    "    apellidos_dict = dict()\n",
    "    keys = list()\n",
    "    values = list()\n",
    "    for line in file:\n",
    "        line = line.strip()\n",
    "        \n",
    "        tlf = line.split('=')[1].strip()\n",
    "        nombre = line.split('=')[0].split(',')[1].strip()\n",
    "        apellidos = line.split('=')[0].split(',')[0].strip()\n",
    "\n",
    "        if (not apellidos_dict.__contains__(apellidos)):\n",
    "            apellidos_dict[apellidos] = list()\n",
    "           \n",
    "        apellidos_dict[apellidos].append((nombre, tlf))\n",
    "\n",
    "        for apellido, nombre in apellidos_dict.items():\n",
    "            if (keys.__contains__(apellido)):\n",
    "                continue\n",
    "\n",
    "            for nombre_key, tlf in nombre:\n",
    "                if (keys.__contains__(nombre_key) or values.__contains__(tlf)):\n",
    "                    continue\n",
    "\n",
    "                values.append(tlf)\n",
    "                keys.append((apellido, nombre_key))\n",
    "\n",
    "    print(keys)\n",
    "    print(values)\n"
   ]
  },
  {
   "cell_type": "markdown",
   "metadata": {
    "id": "waLLa3N8Iw22"
   },
   "source": [
    "### 6. Dado el siguiente código"
   ]
  },
  {
   "cell_type": "code",
   "execution_count": 19,
   "metadata": {
    "colab": {
     "base_uri": "https://localhost:8080/"
    },
    "id": "CFds3dfAIz0v",
    "outputId": "dfc8283e-45fc-43f8-f978-62d0b1fbae2d"
   },
   "outputs": [
    {
     "data": {
      "text/plain": [
       "False"
      ]
     },
     "execution_count": 19,
     "metadata": {},
     "output_type": "execute_result"
    }
   ],
   "source": [
    "a=3 # a = 3\n",
    "# Al ser un primitivo y no un objeto complejo solo \n",
    "# se intercambia el valor pero no la dirección de memoria\n",
    "b=a # b = a.value() => b = 3\n",
    "a=4 # a = 4; b = 3\n",
    "a==b # a == b => 4 == 3 => False"
   ]
  },
  {
   "cell_type": "code",
   "execution_count": 1,
   "metadata": {
    "colab": {
     "base_uri": "https://localhost:8080/"
    },
    "id": "Vc-b7CiDI4vD",
    "outputId": "0abc7a16-6021-48a7-f33c-bf149783fc49"
   },
   "outputs": [
    {
     "data": {
      "text/plain": [
       "True"
      ]
     },
     "execution_count": 1,
     "metadata": {},
     "output_type": "execute_result"
    }
   ],
   "source": [
    "a=[1,2] # a = [1,2]\n",
    "b=a # b = a => Ahora 'b' apunta a la dirección de memoria de 'a'\n",
    "a[0]=2 # a = [2, 2]; b = [2, 2]\n",
    "# Se cambia el objeto inicial por lo tanto también el final\n",
    "a==b # a == b => [2, 2] == [2, 2] => True\n",
    "# Son el mismo ya que apuntan a la misma dirección de memoria y tienen el mismo valor"
   ]
  },
  {
   "cell_type": "markdown",
   "metadata": {
    "id": "iNVcF_nlJE4T"
   },
   "source": [
    "Explica por qué hay esta diferencia si el patrón es el mismo.\n",
    "\n",
    "Respuesta:\n",
    "________________________________________________________________________________\n",
    "________________________________________________________________________________\n",
    "________________________________________________________________________________\n",
    "________________________________________________________________________________\n",
    "________________________________________________________________________________\n",
    "________________________________________________________________________________\n",
    "\n"
   ]
  },
  {
   "cell_type": "markdown",
   "metadata": {
    "id": "FOWd-LX4Kt95"
   },
   "source": [
    "### 7. Dada la estructura compleja del ejercicio 4, crea un fichero JSON y haz que su contenido sea dicha estructura.\n",
    "\n",
    "[Documentación oficial](https://docs.python.org/es/3/library/json.html)"
   ]
  },
  {
   "cell_type": "code",
   "execution_count": 21,
   "metadata": {
    "id": "dGmFR830K7Zf"
   },
   "outputs": [],
   "source": [
    "# respuesta\n",
    "import json\n",
    "\n",
    "with open('data.json', 'w') as json_file:\n",
    "    json.dump(apellidos_dict, json_file)"
   ]
  }
 ],
 "metadata": {
  "colab": {
   "collapsed_sections": [],
   "provenance": []
  },
  "kernelspec": {
   "display_name": "base",
   "language": "python",
   "name": "python3"
  },
  "language_info": {
   "codemirror_mode": {
    "name": "ipython",
    "version": 3
   },
   "file_extension": ".py",
   "mimetype": "text/x-python",
   "name": "python",
   "nbconvert_exporter": "python",
   "pygments_lexer": "ipython3",
   "version": "3.12.7"
  }
 },
 "nbformat": 4,
 "nbformat_minor": 0
}
