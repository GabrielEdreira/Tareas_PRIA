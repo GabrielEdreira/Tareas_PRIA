{
 "cells": [
  {
   "cell_type": "code",
   "execution_count": 1,
   "metadata": {},
   "outputs": [
    {
     "name": "stderr",
     "output_type": "stream",
     "text": [
      "c:\\Users\\gabriel.antonio.edre\\Documents\\main\\.venv\\Lib\\site-packages\\tqdm\\auto.py:21: TqdmWarning: IProgress not found. Please update jupyter and ipywidgets. See https://ipywidgets.readthedocs.io/en/stable/user_install.html\n",
      "  from .autonotebook import tqdm as notebook_tqdm\n"
     ]
    }
   ],
   "source": [
    "# %pip install optuna\n",
    "# %pip install xgboost \n",
    "\n",
    "import optuna\n",
    "import pandas as pd\n",
    "from sklearn.svm import SVC\n",
    "from xgboost import XGBClassifier\n",
    "from sklearn.datasets import fetch_openml\n",
    "from sklearn.metrics import accuracy_score\n",
    "from sklearn.ensemble import VotingClassifier\n",
    "from sklearn.metrics import mean_squared_error\n",
    "from sklearn.ensemble import StackingClassifier\n",
    "from sklearn.ensemble import RandomForestRegressor\n",
    "from sklearn.ensemble import RandomForestClassifier\n",
    "from sklearn.linear_model import LogisticRegression\n",
    "from sklearn.model_selection import train_test_split"
   ]
  },
  {
   "cell_type": "code",
   "execution_count": 2,
   "metadata": {},
   "outputs": [],
   "source": [
    "df = pd.read_csv(\"dataset.csv\")\n",
    "df = df.dropna()\n",
    "\n",
    "X, y = df[[\"Time\", \"Current education expenditure, total\", \"Current health expenditure\", \"Domestic general government health expenditure\", \"Unemployment, youth total   \", \"Unemployment with basic education\", \"Unemployment with intermediate education\", \"Unemployment, total   \", \"Unemployment, youth total   \", \"Wage and salaried workers, total\"]], df[\"Vulnerable employment, total   \"]\n",
    "\n",
    "y = y.apply(lambda x: 1 if x > y.mean() else 0)\n",
    "\n",
    "X_train, X_test, y_train, y_test = train_test_split(X, y, test_size=0.3, random_state=42)\n"
   ]
  },
  {
   "cell_type": "code",
   "execution_count": 3,
   "metadata": {},
   "outputs": [
    {
     "name": "stdout",
     "output_type": "stream",
     "text": [
      "Accuracy: 0.67\n"
     ]
    }
   ],
   "source": [
    "rf_clf = RandomForestClassifier(n_estimators=170, random_state=42)\n",
    "rf_clf.fit(X_train, y_train)\n",
    "\n",
    "y_pred = rf_clf.predict(X_test)\n",
    "print(f\"Accuracy: {accuracy_score(y_test, y_pred):.2f}\")"
   ]
  },
  {
   "cell_type": "code",
   "execution_count": 4,
   "metadata": {},
   "outputs": [],
   "source": [
    "boston = fetch_openml(name=\"boston\", version=1, as_frame=True)\n",
    "X, y = boston.data, boston.target\n",
    "\n",
    "X_train, X_test, y_train, y_test = train_test_split(X, y, test_size=0.3, random_state=42)\n",
    "\n",
    "y_test = y_test.apply(lambda x: 1 if x > y.mean() else 0)\n",
    "y_train = y_train.apply(lambda x: 1 if x > y.mean() else 0)"
   ]
  },
  {
   "cell_type": "code",
   "execution_count": 5,
   "metadata": {},
   "outputs": [
    {
     "name": "stdout",
     "output_type": "stream",
     "text": [
      "MSE: 0.07\n"
     ]
    }
   ],
   "source": [
    "rf_reg = RandomForestRegressor(n_estimators=100, random_state=42)\n",
    "rf_reg.fit(X_train, y_train)\n",
    "\n",
    "y_pred = rf_reg.predict(X_test)\n",
    "print(f\"MSE: {mean_squared_error(y_test, y_pred):.2f}\")"
   ]
  },
  {
   "cell_type": "code",
   "execution_count": 6,
   "metadata": {},
   "outputs": [
    {
     "name": "stdout",
     "output_type": "stream",
     "text": [
      "VotingClassifier Accuracy: 0.91\n"
     ]
    }
   ],
   "source": [
    "log_clf = LogisticRegression(random_state=42, solver=\"liblinear\")\n",
    "svm_clf = SVC(probability=True, random_state=42)\n",
    "rf_clf = RandomForestClassifier(n_estimators=100, random_state=42)\n",
    "\n",
    "voting_clf = VotingClassifier(\n",
    "    estimators=[('lr', log_clf), ('svc', svm_clf), ('rf', rf_clf)],\n",
    "    voting='soft'\n",
    ")\n",
    "\n",
    "X_test = X_test.astype(float)\n",
    "\n",
    "voting_clf.fit(X_train, y_train)\n",
    "y_pred = voting_clf.predict(X_test)\n",
    "print(f\"VotingClassifier Accuracy: {accuracy_score(y_test, y_pred):.2f}\")"
   ]
  },
  {
   "cell_type": "code",
   "execution_count": 7,
   "metadata": {},
   "outputs": [
    {
     "name": "stdout",
     "output_type": "stream",
     "text": [
      "StackingClassifier Accuracy: 0.95\n"
     ]
    }
   ],
   "source": [
    "estimators = [\n",
    "    ('lr', LogisticRegression(random_state=42, solver=\"liblinear\")),\n",
    "    ('svc', SVC(probability=True, random_state=42)),\n",
    "    ('rf', RandomForestClassifier(n_estimators=100, random_state=42))\n",
    "]\n",
    "\n",
    "stacking_clf = StackingClassifier(\n",
    "    estimators=estimators,\n",
    "    final_estimator=LogisticRegression()\n",
    ")\n",
    "\n",
    "X_train = X_train.astype(float)\n",
    "\n",
    "stacking_clf.fit(X_train, y_train)\n",
    "y_pred = stacking_clf.predict(X_test)\n",
    "print(f\"StackingClassifier Accuracy: {accuracy_score(y_test, y_pred):.2f}\")"
   ]
  },
  {
   "cell_type": "code",
   "execution_count": 8,
   "metadata": {},
   "outputs": [
    {
     "name": "stdout",
     "output_type": "stream",
     "text": [
      "XGBoost Accuracy: 0.92\n"
     ]
    }
   ],
   "source": [
    "xgb_clf = XGBClassifier(n_estimators=100, random_state=42)\n",
    "xgb_clf.fit(X_train, y_train)\n",
    "\n",
    "y_pred = xgb_clf.predict(X_test)\n",
    "print(f\"XGBoost Accuracy: {accuracy_score(y_test, y_pred):.2f}\")"
   ]
  },
  {
   "cell_type": "code",
   "execution_count": 9,
   "metadata": {},
   "outputs": [
    {
     "name": "stderr",
     "output_type": "stream",
     "text": [
      "[I 2025-03-19 18:53:48,497] A new study created in memory with name: no-name-e1b996b0-5532-4adf-a230-c02aaba5d6db\n",
      "[I 2025-03-19 18:53:48,523] Trial 0 finished with value: 0.8947368421052632 and parameters: {'n_estimators': 13, 'max_depth': 10}. Best is trial 0 with value: 0.8947368421052632.\n",
      "[I 2025-03-19 18:53:48,652] Trial 1 finished with value: 0.9342105263157895 and parameters: {'n_estimators': 85, 'max_depth': 10}. Best is trial 1 with value: 0.9342105263157895.\n",
      "[I 2025-03-19 18:53:48,842] Trial 2 finished with value: 0.8947368421052632 and parameters: {'n_estimators': 155, 'max_depth': 2}. Best is trial 1 with value: 0.9342105263157895.\n",
      "[I 2025-03-19 18:53:49,034] Trial 3 finished with value: 0.9473684210526315 and parameters: {'n_estimators': 137, 'max_depth': 9}. Best is trial 3 with value: 0.9473684210526315.\n",
      "[I 2025-03-19 18:53:49,223] Trial 4 finished with value: 0.9407894736842105 and parameters: {'n_estimators': 135, 'max_depth': 23}. Best is trial 3 with value: 0.9473684210526315.\n",
      "[I 2025-03-19 18:53:49,315] Trial 5 finished with value: 0.9144736842105263 and parameters: {'n_estimators': 76, 'max_depth': 2}. Best is trial 3 with value: 0.9473684210526315.\n",
      "[I 2025-03-19 18:53:49,353] Trial 6 finished with value: 0.9144736842105263 and parameters: {'n_estimators': 26, 'max_depth': 9}. Best is trial 3 with value: 0.9473684210526315.\n",
      "[I 2025-03-19 18:53:49,431] Trial 7 finished with value: 0.9276315789473685 and parameters: {'n_estimators': 55, 'max_depth': 8}. Best is trial 3 with value: 0.9473684210526315.\n",
      "[I 2025-03-19 18:53:49,562] Trial 8 finished with value: 0.9342105263157895 and parameters: {'n_estimators': 94, 'max_depth': 27}. Best is trial 3 with value: 0.9473684210526315.\n",
      "[I 2025-03-19 18:53:49,702] Trial 9 finished with value: 0.9144736842105263 and parameters: {'n_estimators': 119, 'max_depth': 2}. Best is trial 3 with value: 0.9473684210526315.\n",
      "[I 2025-03-19 18:53:49,948] Trial 10 finished with value: 0.9276315789473685 and parameters: {'n_estimators': 194, 'max_depth': 4}. Best is trial 3 with value: 0.9473684210526315.\n",
      "[I 2025-03-19 18:53:50,139] Trial 11 finished with value: 0.9407894736842105 and parameters: {'n_estimators': 137, 'max_depth': 28}. Best is trial 3 with value: 0.9473684210526315.\n",
      "[I 2025-03-19 18:53:50,382] Trial 12 finished with value: 0.9407894736842105 and parameters: {'n_estimators': 177, 'max_depth': 17}. Best is trial 3 with value: 0.9473684210526315.\n",
      "[I 2025-03-19 18:53:50,591] Trial 13 finished with value: 0.9342105263157895 and parameters: {'n_estimators': 149, 'max_depth': 16}. Best is trial 3 with value: 0.9473684210526315.\n",
      "[I 2025-03-19 18:53:50,752] Trial 14 finished with value: 0.9342105263157895 and parameters: {'n_estimators': 119, 'max_depth': 5}. Best is trial 3 with value: 0.9473684210526315.\n",
      "[I 2025-03-19 18:53:50,986] Trial 15 finished with value: 0.9407894736842105 and parameters: {'n_estimators': 170, 'max_depth': 16}. Best is trial 3 with value: 0.9473684210526315.\n",
      "[I 2025-03-19 18:53:51,156] Trial 16 finished with value: 0.9342105263157895 and parameters: {'n_estimators': 128, 'max_depth': 5}. Best is trial 3 with value: 0.9473684210526315.\n",
      "[I 2025-03-19 18:53:51,305] Trial 17 finished with value: 0.9342105263157895 and parameters: {'n_estimators': 105, 'max_depth': 22}. Best is trial 3 with value: 0.9473684210526315.\n",
      "[I 2025-03-19 18:53:51,509] Trial 18 finished with value: 0.9210526315789473 and parameters: {'n_estimators': 163, 'max_depth': 3}. Best is trial 3 with value: 0.9473684210526315.\n",
      "[I 2025-03-19 18:53:51,607] Trial 19 finished with value: 0.9342105263157895 and parameters: {'n_estimators': 66, 'max_depth': 14}. Best is trial 3 with value: 0.9473684210526315.\n",
      "[I 2025-03-19 18:53:51,876] Trial 20 finished with value: 0.9407894736842105 and parameters: {'n_estimators': 194, 'max_depth': 32}. Best is trial 3 with value: 0.9473684210526315.\n",
      "[I 2025-03-19 18:53:52,072] Trial 21 finished with value: 0.9407894736842105 and parameters: {'n_estimators': 139, 'max_depth': 23}. Best is trial 3 with value: 0.9473684210526315.\n",
      "[I 2025-03-19 18:53:52,265] Trial 22 finished with value: 0.9407894736842105 and parameters: {'n_estimators': 136, 'max_depth': 13}. Best is trial 3 with value: 0.9473684210526315.\n",
      "[I 2025-03-19 18:53:52,426] Trial 23 finished with value: 0.9407894736842105 and parameters: {'n_estimators': 113, 'max_depth': 21}. Best is trial 3 with value: 0.9473684210526315.\n",
      "[I 2025-03-19 18:53:52,634] Trial 24 finished with value: 0.9342105263157895 and parameters: {'n_estimators': 143, 'max_depth': 31}. Best is trial 3 with value: 0.9473684210526315.\n",
      "[I 2025-03-19 18:53:52,775] Trial 25 finished with value: 0.9342105263157895 and parameters: {'n_estimators': 103, 'max_depth': 6}. Best is trial 3 with value: 0.9473684210526315.\n",
      "[I 2025-03-19 18:53:53,019] Trial 26 finished with value: 0.9407894736842105 and parameters: {'n_estimators': 177, 'max_depth': 20}. Best is trial 3 with value: 0.9473684210526315.\n",
      "[I 2025-03-19 18:53:53,198] Trial 27 finished with value: 0.9407894736842105 and parameters: {'n_estimators': 127, 'max_depth': 13}. Best is trial 3 with value: 0.9473684210526315.\n",
      "[I 2025-03-19 18:53:53,414] Trial 28 finished with value: 0.9342105263157895 and parameters: {'n_estimators': 155, 'max_depth': 25}. Best is trial 3 with value: 0.9473684210526315.\n",
      "[I 2025-03-19 18:53:53,600] Trial 29 finished with value: 0.9473684210526315 and parameters: {'n_estimators': 132, 'max_depth': 11}. Best is trial 3 with value: 0.9473684210526315.\n",
      "[I 2025-03-19 18:53:53,673] Trial 30 finished with value: 0.9210526315789473 and parameters: {'n_estimators': 48, 'max_depth': 7}. Best is trial 3 with value: 0.9473684210526315.\n",
      "[I 2025-03-19 18:53:53,860] Trial 31 finished with value: 0.9407894736842105 and parameters: {'n_estimators': 131, 'max_depth': 11}. Best is trial 3 with value: 0.9473684210526315.\n",
      "[I 2025-03-19 18:53:54,064] Trial 32 finished with value: 0.9473684210526315 and parameters: {'n_estimators': 146, 'max_depth': 11}. Best is trial 3 with value: 0.9473684210526315.\n",
      "[I 2025-03-19 18:53:54,283] Trial 33 finished with value: 0.9473684210526315 and parameters: {'n_estimators': 156, 'max_depth': 10}. Best is trial 3 with value: 0.9473684210526315.\n",
      "[I 2025-03-19 18:53:54,499] Trial 34 finished with value: 0.9473684210526315 and parameters: {'n_estimators': 155, 'max_depth': 11}. Best is trial 3 with value: 0.9473684210526315.\n",
      "[I 2025-03-19 18:53:54,731] Trial 35 finished with value: 0.9407894736842105 and parameters: {'n_estimators': 166, 'max_depth': 9}. Best is trial 3 with value: 0.9473684210526315.\n",
      "[I 2025-03-19 18:53:54,975] Trial 36 finished with value: 0.9407894736842105 and parameters: {'n_estimators': 179, 'max_depth': 7}. Best is trial 3 with value: 0.9473684210526315.\n",
      "[I 2025-03-19 18:53:55,185] Trial 37 finished with value: 0.9473684210526315 and parameters: {'n_estimators': 149, 'max_depth': 9}. Best is trial 3 with value: 0.9473684210526315.\n",
      "[I 2025-03-19 18:53:55,302] Trial 38 finished with value: 0.9276315789473685 and parameters: {'n_estimators': 81, 'max_depth': 10}. Best is trial 3 with value: 0.9473684210526315.\n",
      "[I 2025-03-19 18:53:55,443] Trial 39 finished with value: 0.9407894736842105 and parameters: {'n_estimators': 99, 'max_depth': 8}. Best is trial 3 with value: 0.9473684210526315.\n",
      "[I 2025-03-19 18:53:55,599] Trial 40 finished with value: 0.9342105263157895 and parameters: {'n_estimators': 113, 'max_depth': 6}. Best is trial 3 with value: 0.9473684210526315.\n",
      "[I 2025-03-19 18:53:55,813] Trial 41 finished with value: 0.9473684210526315 and parameters: {'n_estimators': 154, 'max_depth': 11}. Best is trial 3 with value: 0.9473684210526315.\n",
      "[I 2025-03-19 18:53:56,038] Trial 42 finished with value: 0.9473684210526315 and parameters: {'n_estimators': 161, 'max_depth': 11}. Best is trial 3 with value: 0.9473684210526315.\n",
      "[I 2025-03-19 18:53:56,243] Trial 43 finished with value: 0.9342105263157895 and parameters: {'n_estimators': 146, 'max_depth': 12}. Best is trial 3 with value: 0.9473684210526315.\n",
      "[I 2025-03-19 18:53:56,415] Trial 44 finished with value: 0.9407894736842105 and parameters: {'n_estimators': 122, 'max_depth': 8}. Best is trial 3 with value: 0.9473684210526315.\n",
      "[I 2025-03-19 18:53:56,650] Trial 45 finished with value: 0.9407894736842105 and parameters: {'n_estimators': 171, 'max_depth': 15}. Best is trial 3 with value: 0.9473684210526315.\n",
      "[I 2025-03-19 18:53:56,904] Trial 46 finished with value: 0.9407894736842105 and parameters: {'n_estimators': 184, 'max_depth': 9}. Best is trial 3 with value: 0.9473684210526315.\n",
      "[I 2025-03-19 18:53:57,123] Trial 47 finished with value: 0.9342105263157895 and parameters: {'n_estimators': 157, 'max_depth': 19}. Best is trial 3 with value: 0.9473684210526315.\n",
      "[I 2025-03-19 18:53:57,316] Trial 48 finished with value: 0.9407894736842105 and parameters: {'n_estimators': 142, 'max_depth': 6}. Best is trial 3 with value: 0.9473684210526315.\n",
      "[I 2025-03-19 18:53:57,355] Trial 49 finished with value: 0.9144736842105263 and parameters: {'n_estimators': 21, 'max_depth': 10}. Best is trial 3 with value: 0.9473684210526315.\n"
     ]
    },
    {
     "name": "stdout",
     "output_type": "stream",
     "text": [
      "Mejores hiperparámetros: {'n_estimators': 137, 'max_depth': 9}\n"
     ]
    }
   ],
   "source": [
    "def objective(trial):\n",
    "    n_estimators = trial.suggest_int('n_estimators', 10, 200)\n",
    "    max_depth = trial.suggest_int('max_depth', 2, 32, log=True)\n",
    "\n",
    "    model = RandomForestClassifier(n_estimators=n_estimators, max_depth=max_depth, random_state=42)\n",
    "    model.fit(X_train, y_train)\n",
    "\n",
    "    y_pred = model.predict(X_test)\n",
    "    return accuracy_score(y_test, y_pred)\n",
    "\n",
    "study = optuna.create_study(direction='maximize')\n",
    "study.optimize(objective, n_trials=50)\n",
    "\n",
    "print(f\"Mejores hiperparámetros: {study.best_params}\")"
   ]
  }
 ],
 "metadata": {
  "kernelspec": {
   "display_name": ".venv",
   "language": "python",
   "name": "python3"
  },
  "language_info": {
   "codemirror_mode": {
    "name": "ipython",
    "version": 3
   },
   "file_extension": ".py",
   "mimetype": "text/x-python",
   "name": "python",
   "nbconvert_exporter": "python",
   "pygments_lexer": "ipython3",
   "version": "3.13.0"
  }
 },
 "nbformat": 4,
 "nbformat_minor": 2
}
