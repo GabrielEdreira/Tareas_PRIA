{
 "cells": [
  {
   "cell_type": "markdown",
   "metadata": {},
   "source": [
    "## Ejercicios Numpy "
   ]
  },
  {
   "cell_type": "code",
   "execution_count": 25,
   "metadata": {},
   "outputs": [],
   "source": [
    "import numpy as np, pandas as pd"
   ]
  },
  {
   "cell_type": "markdown",
   "metadata": {},
   "source": [
    "#### 1. Crea una matriz 4*4 rellena con el valor 0.5"
   ]
  },
  {
   "cell_type": "code",
   "execution_count": 67,
   "metadata": {},
   "outputs": [
    {
     "name": "stdout",
     "output_type": "stream",
     "text": [
      "[[0.5 0.5 0.5 0.5]\n",
      " [0.5 0.5 0.5 0.5]\n",
      " [0.5 0.5 0.5 0.5]\n",
      " [0.5 0.5 0.5 0.5]]\n"
     ]
    }
   ],
   "source": [
    "matriz_1 = np.full((4,4),0.5)\n",
    "print(matriz_1)"
   ]
  },
  {
   "cell_type": "markdown",
   "metadata": {},
   "source": [
    "#### 2. Crea una matriz 6*6 con unos en los bordes y 0 en el interior (utilizando slicing)"
   ]
  },
  {
   "cell_type": "code",
   "execution_count": 26,
   "metadata": {},
   "outputs": [
    {
     "name": "stdout",
     "output_type": "stream",
     "text": [
      "[[1 1 1 1 1 1]\n",
      " [1 0 0 0 0 1]\n",
      " [1 0 0 0 0 1]\n",
      " [1 0 0 0 0 1]\n",
      " [1 0 0 0 0 1]\n",
      " [1 1 1 1 1 1]]\n"
     ]
    }
   ],
   "source": [
    "matriz = np.ones((6, 6), dtype=int)\n",
    "matriz[1:-1, 1:-1] = 0\n",
    "\n",
    "print(matriz)"
   ]
  },
  {
   "cell_type": "markdown",
   "metadata": {},
   "source": [
    "#### 3. Crea una matriz de numpy 3*2 a partir de una lista de listas de números float"
   ]
  },
  {
   "cell_type": "code",
   "execution_count": 41,
   "metadata": {},
   "outputs": [
    {
     "data": {
      "text/plain": [
       "array([[1. , 3.2],\n",
       "       [3.5, 9.3],\n",
       "       [0.5, 4.6]])"
      ]
     },
     "execution_count": 41,
     "metadata": {},
     "output_type": "execute_result"
    }
   ],
   "source": [
    "lista = [[1.0,3.2], [3.5,9.3], [0.5, 4.6]]\n",
    "\n",
    "matriz = np.array(lista)\n",
    "matriz"
   ]
  },
  {
   "cell_type": "markdown",
   "metadata": {},
   "source": [
    "#### 4. Divide entre 4 los valores de la columna 1"
   ]
  },
  {
   "cell_type": "code",
   "execution_count": 42,
   "metadata": {},
   "outputs": [
    {
     "data": {
      "text/plain": [
       "array([[0.25 , 3.2  ],\n",
       "       [0.875, 9.3  ],\n",
       "       [0.125, 4.6  ]])"
      ]
     },
     "execution_count": 42,
     "metadata": {},
     "output_type": "execute_result"
    }
   ],
   "source": [
    "matriz[:, 0] /= 4\n",
    "matriz"
   ]
  },
  {
   "cell_type": "markdown",
   "metadata": {},
   "source": [
    "#### 5. Calcula la media de los elementos de las primeras dos primeras filas"
   ]
  },
  {
   "cell_type": "code",
   "execution_count": 50,
   "metadata": {},
   "outputs": [
    {
     "data": {
      "text/plain": [
       "np.float64(3.40625)"
      ]
     },
     "execution_count": 50,
     "metadata": {},
     "output_type": "execute_result"
    }
   ],
   "source": [
    "np.average(matriz[0:2,:])"
   ]
  },
  {
   "cell_type": "markdown",
   "metadata": {},
   "source": [
    "#### 6. Crea una matriz aletoria de 4*4 con valores en [0, 1) \n",
    "\n",
    "El módulo <code>random</code> de numpy sirve para generar números aleatorios. En él tenemos varias funciones entre ellas <a href=\"https://numpy.org/doc/stable/reference/random/generated/numpy.random.rand.html\">rand</a>\n",
    "\n"
   ]
  },
  {
   "cell_type": "code",
   "execution_count": 70,
   "metadata": {},
   "outputs": [
    {
     "name": "stdout",
     "output_type": "stream",
     "text": [
      "[[0 0 1 1]\n",
      " [1 1 0 1]\n",
      " [1 1 1 0]\n",
      " [1 1 1 0]]\n"
     ]
    }
   ],
   "source": [
    "matriz_6 = np.random.randint(0,2, size=(4,4))\n",
    "print(matriz_6)"
   ]
  },
  {
   "cell_type": "markdown",
   "metadata": {},
   "source": [
    "#### 7.  Muestra la suma, media y desviación de los elementos de la matriz del ejercicio 1 "
   ]
  },
  {
   "cell_type": "code",
   "execution_count": 69,
   "metadata": {},
   "outputs": [
    {
     "name": "stdout",
     "output_type": "stream",
     "text": [
      "Suma: 8.0\n",
      "Media: 0.5\n",
      "Desviacion: 0.0\n"
     ]
    }
   ],
   "source": [
    "suma = matriz_1.sum()\n",
    "print(f\"Suma: {suma}\")\n",
    "\n",
    "media = matriz_1.mean()\n",
    "print(f\"Media: {media}\")\n",
    "\n",
    "desviacion = matriz_1.std()\n",
    "print(f\"Desviacion: {desviacion}\")"
   ]
  },
  {
   "cell_type": "markdown",
   "metadata": {},
   "source": [
    "#### 8. Ordena por filas la matriz del ejercicio 1"
   ]
  },
  {
   "cell_type": "code",
   "execution_count": 72,
   "metadata": {},
   "outputs": [
    {
     "name": "stdout",
     "output_type": "stream",
     "text": [
      "[[0.5 0.5 0.5 0.5]\n",
      " [0.5 0.5 0.5 0.5]\n",
      " [0.5 0.5 0.5 0.5]\n",
      " [0.5 0.5 0.5 0.5]]\n"
     ]
    }
   ],
   "source": [
    "matriz_1.sort(axis=1)\n",
    "print(matriz_1)"
   ]
  },
  {
   "cell_type": "markdown",
   "metadata": {},
   "source": [
    "#### 9. Multiplica las matrices del ejercio 1 y 6"
   ]
  },
  {
   "cell_type": "code",
   "execution_count": 71,
   "metadata": {},
   "outputs": [
    {
     "name": "stdout",
     "output_type": "stream",
     "text": [
      "[[0.  0.  0.5 0.5]\n",
      " [0.5 0.5 0.  0.5]\n",
      " [0.5 0.5 0.5 0. ]\n",
      " [0.5 0.5 0.5 0. ]]\n"
     ]
    }
   ],
   "source": [
    "result = matriz_1 * matriz_6\n",
    "print(result)"
   ]
  },
  {
   "cell_type": "markdown",
   "metadata": {},
   "source": [
    "#### 10. Prueba a concatenar las matrices de los ejercicios 1 y 6 en vertical y horizontal\n",
    "\n",
    "Echa un vistazo al apartado 2 del siguiente <a href=\"https://rmoralesdelgado.com/all/numpy-concatenate-r_-c_/\"> link </a> donde explica el uso de <a href=\"https://numpy.org/doc/stable/reference/generated/numpy.c_.html\">numpy.c_ </a> y <a href=\"https://numpy.org/doc/stable/reference/generated/numpy.r_.html\">numpy.r_</a>\n",
    "\n",
    "Fíjate también en <code>%%timeit</code> que se usa en Jupyter notebooks para medir el tiempo de ejecución de un bloque de código"
   ]
  },
  {
   "cell_type": "code",
   "execution_count": null,
   "metadata": {},
   "outputs": [],
   "source": []
  }
 ],
 "metadata": {
  "kernelspec": {
   "display_name": ".venv",
   "language": "python",
   "name": "python3"
  },
  "language_info": {
   "codemirror_mode": {
    "name": "ipython",
    "version": 3
   },
   "file_extension": ".py",
   "mimetype": "text/x-python",
   "name": "python",
   "nbconvert_exporter": "python",
   "pygments_lexer": "ipython3",
   "version": "3.13.0"
  }
 },
 "nbformat": 4,
 "nbformat_minor": 2
}
