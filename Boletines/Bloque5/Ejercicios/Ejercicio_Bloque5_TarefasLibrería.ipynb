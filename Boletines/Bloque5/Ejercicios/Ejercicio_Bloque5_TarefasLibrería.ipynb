{
 "cells": [
  {
   "cell_type": "code",
   "execution_count": 45,
   "metadata": {},
   "outputs": [
    {
     "name": "stdout",
     "output_type": "stream",
     "text": [
      "Camino encontrado: [(2, 3), (2, 4), (1, 4), (0, 4), (0, 3), (0, 2), (0, 1), (0, 0), (1, 0), (2, 0), (3, 0), (4, 0), (4, 1), (4, 2)]\n"
     ]
    },
    {
     "data": {
      "image/png": "[encoded data removed]",
      "text/plain": [
       "<Figure size 640x480 with 1 Axes>"
      ]
     },
     "metadata": {},
     "output_type": "display_data"
    }
   ],
   "source": [
    "from collections import deque\n",
    "import matplotlib.pyplot as plt\n",
    "import random as rd\n",
    "import numpy as np\n",
    "\n",
    "# Laberinto representado como una matriz\n",
    "# 0 = espacio libre, 2 = camino encontrado, 255 = muro\n",
    "laberinto = [\n",
    "    [0,   0,   0,   0, 0],\n",
    "    [0, 255, 255, 255, 0],\n",
    "    [0,   0, 255,   0, 0],\n",
    "    [0,   0, 255,   0, 0],\n",
    "    [0,   0,   0, 255, 0]\n",
    "]\n",
    "\n",
    "# Dirección de movimiento (arriba, abajo, izquierda, derecha)\n",
    "direcciones = [(-1, 0), (1, 0), (0, -1), (0, 1)]\n",
    "\n",
    "def es_valido(x, y, laberinto, visitado):\n",
    "    \"\"\"Verifica si la posición (x, y) es válida para moverse\"\"\"\n",
    "    return 0 <= x < len(laberinto) and 0 <= y < len(laberinto[0]) and laberinto[x][y] == 0 and not visitado[x][y]\n",
    "\n",
    "def bfs(laberinto, inicio, fin):\n",
    "    \"\"\"Implementación de BFS para encontrar el camino más corto en el laberinto\"\"\"\n",
    "    # Crear una matriz de visitados para marcar los nodos visitados\n",
    "    visitado = [[False for _ in range(len(laberinto[0]))] for _ in range(len(laberinto))]\n",
    "    \n",
    "    # Cola para la BFS, almacenará las posiciones y el camino\n",
    "    cola = deque([(inicio, [inicio])])\n",
    "    visitado[inicio[0]][inicio[1]] = True\n",
    "\n",
    "    while cola:\n",
    "        (x, y), camino = cola.popleft()\n",
    "\n",
    "        # Si llegamos al destino, devolvemos el camino\n",
    "        if (x, y) == fin:\n",
    "            return camino\n",
    "\n",
    "        # Explorar las 4 direcciones posibles\n",
    "        for dx, dy in direcciones:\n",
    "            nx, ny = x + dx, y + dy\n",
    "            if es_valido(nx, ny, laberinto, visitado):\n",
    "                visitado[nx][ny] = True\n",
    "                cola.append(((nx, ny), camino + [(nx, ny)]))\n",
    "\n",
    "    # Si no hay camino, retornamos None\n",
    "    return None\n",
    "\n",
    "# Definir el punto de inicio y el punto de destino (Si se quiere cambiar el punto de inicio y destino, cambiar los valores de inicio y fin respectivamente)\n",
    "while(True):\n",
    "    inicio = (rd.randint(0,4), rd.randint(0,4))  # (Fila, Columna)\n",
    "    fin = (rd.randint(0,4), rd.randint(0,4))     # (Fila, Columna)\n",
    "    if(laberinto[inicio[0]][inicio[1]] != 255 and laberinto[fin[0]][fin[1]] != 255 and inicio != fin):\n",
    "        break\n",
    "\n",
    "# Ejecutar la búsqueda en anchura (BFS)\n",
    "camino = bfs(laberinto, inicio, fin)\n",
    "\n",
    "laberinto_array = np.array(laberinto)\n",
    "if not camino:\n",
    "    print(\"No se encontró un camino.\")\n",
    "    laberinto_array[inicio] = 50\n",
    "    laberinto_array[fin] = 200\n",
    "else:\n",
    "    print(\"Camino encontrado:\", camino)\n",
    "\n",
    "    for (x, y) in camino:\n",
    "        if ((x,y) == inicio):\n",
    "            laberinto_array[x, y] = 50\n",
    "        elif((x,y) == fin):\n",
    "            laberinto_array[x, y] = 200\n",
    "        else:\n",
    "            laberinto_array[x, y] = 100\n",
    "\n",
    "# Crear la figura y los ejes\n",
    "fig, ax = plt.subplots()\n",
    "\n",
    "# Usar imshow para mostrar la matriz\n",
    "cax = ax.imshow(laberinto_array, cmap='gray_r', vmin=0, vmax=255)\n",
    "ax.grid(which='both', color='black', linestyle='-', linewidth=2)\n",
    "\n",
    "ax.set_xticks(np.arange(-.5, len(laberinto[0]), 1))\n",
    "ax.set_yticks(np.arange(-.5, len(laberinto), 1))\n",
    "ax.set_xticklabels([])\n",
    "ax.set_yticklabels([])\n",
    "\n",
    "# Mostrar la cuadrícula\n",
    "ax.grid(True)\n",
    "\n",
    "# Mostrar la figura\n",
    "plt.show()"
   ]
  }
 ],
 "metadata": {
  "kernelspec": {
   "display_name": ".venv",
   "language": "python",
   "name": "python3"
  },
  "language_info": {
   "codemirror_mode": {
    "name": "ipython",
    "version": 3
   },
   "file_extension": ".py",
   "mimetype": "text/x-python",
   "name": "python",
   "nbconvert_exporter": "python",
   "pygments_lexer": "ipython3",
   "version": "3.13.0"
  }
 },
 "nbformat": 4,
 "nbformat_minor": 2
}
