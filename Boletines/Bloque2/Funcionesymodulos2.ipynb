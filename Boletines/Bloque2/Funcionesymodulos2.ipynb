{
 "cells": [
  {
   "attachments": {},
   "cell_type": "markdown",
   "metadata": {},
   "source": [
    "<center>\n",
    "<h1 style=\"color: #√;\">Python</h1> \n",
    "<h3 style=\"color: #333333;\">Ejercicios Funciones y Módulos II</h3> \n",
    "</center>\n",
    "\n",
    "<br>\n"
   ]
  },
  {
   "cell_type": "markdown",
   "metadata": {},
   "source": [
    "#### Autor: Gabriel Antonio Edreira García\n"
   ]
  },
  {
   "cell_type": "markdown",
   "metadata": {},
   "source": [
    "<h2 style=\"color: #007BC4;\">Ejercicio 1</h2>\n",
    "<hr style=\"border: 0.5px solid #007BC4;\">\n",
    "\n",
    "- Implementar un programa en Python que calcule y muestre por pantalla el número de días, horas, minutos y segundos que han transcurrido de 2024\n",
    "en el momento de ejecutarse el programa.\n",
    "\n",
    "- Se recomienda utilizar el módulo datetime.\n",
    "\n",
    "#### Ejemplo de ejecución:\n",
    "<pre>\n",
    "Este año han transcurrido ya 279 días, 13 horas, 2 minutos y 2 segundos.\n",
    "\n",
    "</pre>"
   ]
  },
  {
   "cell_type": "code",
   "execution_count": 1,
   "metadata": {},
   "outputs": [
    {
     "name": "stdout",
     "output_type": "stream",
     "text": [
      "Este año han transcurrido ya 345 días, 18 horas, 37 minutos y 2 segundos.\n"
     ]
    }
   ],
   "source": [
    "# Realiza tu solución aquí o en un archivo .py independiente\n",
    "import datetime\n",
    "\n",
    "def calcTimeSince2024():\n",
    "    now = datetime.datetime.now()\n",
    "    since = datetime.datetime(2024, 1, 1, 0, 0, 0, 0)\n",
    "\n",
    "    time_difference = now - since\n",
    "\n",
    "    days = time_difference.days\n",
    "    seconds = time_difference.seconds \n",
    "    hours = seconds // 3600\n",
    "    minutes = (seconds % 3600) // 60\n",
    "    seconds = seconds % 60\n",
    "\n",
    "    return f\"{days} días, {hours} horas, {minutes} minutos y {seconds} segundos.\"\n",
    "    \n",
    "print(f\"Este año han transcurrido ya {calcTimeSince2024()}\")"
   ]
  },
  {
   "cell_type": "markdown",
   "metadata": {},
   "source": [
    "<h2 style=\"color: #007BC4;\">Ejercicio 2</h2>\n",
    "<hr style=\"border: 0.5px solid #007BC4;\">\n",
    "\n",
    "Desarrollar un programa en Python que permita adivinar un número (en 10 intentos). \n",
    "- El programa genera un número aleatorio entre dos números que pide al usuario:\n",
    "    - El primer número debe ser mayor que 0 y menor que 50.\n",
    "    - El segundo número debe ser mayor que el primer número y menor que 500.\n",
    "\n",
    "A continuación, el programa pedirá números al usuario: \n",
    "- Responderá si el el número a adivinar es mayor o menor que el introducido. \n",
    "- Mostrará muestra también el número de intentos restantes. \n",
    "\n",
    "El programa termina cuando:\n",
    " - El usuario acierta el número: en este caso se indicará en cuantos intentos lo ha acertado\n",
    " - Alcanza el limite de intentos sin acertarlo: en este caso se indica al usuario que no lo ha acertado y se muestra el número que se había generado.\n",
    "\n",
    "\n",
    "Ejemplo de ejecución:\n",
    "\n",
    "<pre>\n",
    "Juego de adivinar\n",
    "-----------------\n",
    "Introduce dos números y generaré un número al azar entre ellos que tendrás que adivinar. \n",
    " \n",
    "Introduce el primer número (entre 1 y 50): 1\n",
    "Introduce el segundo número (entre 2 y 500): 20\n",
    "\n",
    "He generado un número al azar entre 2 y 20, ver si lo aciertas, tienes 10 intentos.\n",
    " \n",
    "Introduce un número (entre 2 y 20): 10\n",
    "¡Ohhh! No has acertado. El número es menor que el número que has introducido.\n",
    "Inténtalo de nuevo, te quedan 9 intentos.\n",
    "\n",
    "Introduce un número (entre 2 y 20): 5\n",
    "¡Ohhh! No has acertado. El número es menor que el número que has introducido.\n",
    "Inténtalo de nuevo, te quedan 8 intentos.\n",
    "\n",
    "Introduce un número (entre 2 y 20): 3\n",
    "¡Ohhh! No has acertado. El número es menor que el número que has introducido.\n",
    "Inténtalo de nuevo, te quedan 7 intentos.\n",
    "\n",
    "Introduce un número (entre 2 y 20): 2\n",
    "¡Muy bien! Has acertado el número en 4 intentos.\n",
    "</pre>"
   ]
  },
  {
   "cell_type": "code",
   "execution_count": null,
   "metadata": {},
   "outputs": [],
   "source": [
    "# Realiza tu solución aquí o en un archivo .py independiente\n",
    "import random\n",
    "\n",
    "triesNumber = 10\n",
    "__generatedNumber__ = None\n",
    "\n",
    "def inputs(text : str) -> int:\n",
    "    print(text, end=\" \")\n",
    "    try:\n",
    "        num = int(input(text))\n",
    "    except:\n",
    "        num = 0\n",
    "    print(num)\n",
    "    return num\n",
    "\n",
    "def generateNumber():\n",
    "    global __generatedNumber__ \n",
    "    global triesNumber\n",
    "    num1 = 0\n",
    "    num2 = 0\n",
    "\n",
    "    while (num1 >= num2):\n",
    "        while (num1 < 1 or num1 > 50):\n",
    "            num1 = inputs(\"Introduce el primer número (entre 1 y 50):\")\n",
    "        while (num2 < 2 or num2 > 500):\n",
    "            num2 = inputs(\"Introduce el segundo número (entre 2 y 500):\")\n",
    "\n",
    "        if (num1 >= num2):\n",
    "            num1 = 0\n",
    "            num2 = 0\n",
    "            print(\"El segundo número tiene que ser mayor que el primero.\")\n",
    "\n",
    "    __generatedNumber__ = random.randint(num1+1, num2)\n",
    "    print(f\"\\nHe generado un número al azar entre {num1+1} y {num2}, ver si lo aciertas, tienes {triesNumber} intentos.\\n\")\n",
    "\n",
    "    return num1+1, num2\n",
    "\n",
    "def play(min:int , max:int):\n",
    "    global __generatedNumber__\n",
    "    global triesNumber\n",
    "    num = inputs(f\"Introduce un número (entre {min} y {max}):\")\n",
    "\n",
    "    if (num == __generatedNumber__):\n",
    "        return \"¡Muy bien! Has acertado el número en \"+ str(triesNumber) +\" intentos.\", True\n",
    "    else:\n",
    "        triesNumber -= 1\n",
    "        aux = \"menor\" if num > __generatedNumber__ else \"mayor\"\n",
    "        return \"¡Ohhh! No has acertado. El número es \"+ aux +\" que el número que has introducido.\\nInténtalo de nuevo, te quedan \"+ str(triesNumber) +\" intentos.\\n\", False\n",
    "\n",
    "\n",
    "def __main__():\n",
    "    print(\"Juego de adivinar\\n\"\n",
    "          + \"-----------------\\n\"\n",
    "          + \"Introduce dos números y generaré un número al azar entre ellos que tendrás que adivinar.\\n\")\n",
    "    \n",
    "    # Generando el número al azar según los inputs del usuario\n",
    "    numbers = generateNumber()\n",
    "\n",
    "    end = False\n",
    "    while(not end): \n",
    "        result = play(numbers[0], numbers[1])\n",
    "        print(result[0])\n",
    "        end = result[1]\n",
    "if (__name__ == \"__main__\"):\n",
    "    __main__()"
   ]
  },
  {
   "cell_type": "markdown",
   "metadata": {},
   "source": [
    "<h2 style=\"color: #007BC4;\">Ejercicio 3</h2>\n",
    "<hr style=\"border: 0.5px solid #007BC4;\">\n",
    "\n",
    "Implementar un programa en Python que:\n",
    "- Pida un número al usuario.\n",
    "- Calcule los números primos hasta ese número utilizando una función generadora.\n",
    "- Muestre por pantalla los números primos.\n",
    "\n",
    "\n",
    "\n",
    "#### Ejemplo de ejecución:\n",
    "<pre>\n",
    "Introduce el número máximo para generar los números primos: 20\n",
    "Los números primos menores o iguales a 20 son: 2 3 5 7 11 13 17 19 \n",
    "</pre>"
   ]
  },
  {
   "cell_type": "code",
   "execution_count": null,
   "metadata": {},
   "outputs": [
    {
     "name": "stdout",
     "output_type": "stream",
     "text": [
      "Introduce el número máximo para generar los números primos: 10\n",
      "Los números primos menores o iguales a 20 son: 2 3 5 7 \n"
     ]
    }
   ],
   "source": [
    "# Realiza tu solución aquí o en un archivo .py independiente\n",
    "def isPrimo(a):\n",
    "    count = 0\n",
    "    for i in range(1, a+1):\n",
    "        if (a % i == 0):\n",
    "            count += 1\n",
    "    return a == 1 or count <= 2\n",
    "\n",
    "def getNumMaxNPrimos(n):\n",
    "    res = \"\"\n",
    "\n",
    "    for i in range(2, n):\n",
    "        if (isPrimo(i)):\n",
    "            res += str(i) + \" \"\n",
    "\n",
    "    return res\n",
    "\n",
    "\n",
    "def __main__():\n",
    "    num = 0\n",
    "    while (num <= 0):\n",
    "        print(\"Introduce el número máximo para generar los números primos:\", end=\" \")\n",
    "        try:\n",
    "            num = int(input(\"Introduce el número máximo para generar los números primos:\"))\n",
    "        except:\n",
    "            num = 0\n",
    "        print(num)\n",
    "\n",
    "    print(f\"Los números primos menores o iguales a {num} son: {getNumMaxNPrimos(num)}\") \n",
    "if (__name__ == \"__main__\"):\n",
    "    __main__()"
   ]
  },
  {
   "cell_type": "markdown",
   "metadata": {},
   "source": [
    "<h2 style=\"color: #007BC4;\">Ejercicio 4</h2>\n",
    "<hr style=\"border: 0.5px solid #007BC4;\">\n",
    "\n",
    "Define un decorador que mida el tiempo de ejecución de la función que decora y lo muestre por pantalla (en segundos con dos decimales). \n",
    "\n",
    "- Elige el nombre que prefieras para el decorador, un posible nombre sería: mide_tiempo\n",
    "- Puedes probar el decorador con las funciones que quieras.\n",
    "- Una sugerencia de funcion para realizar pruebas es la siguiente:\n",
    "\n",
    "<pre>\n",
    "        def suma(n):\n",
    "            return sum(range(n)) \n",
    "\n",
    "        @mide_tiempo \n",
    "        suma(100000000)\n",
    "        \n",
    "        ------\n",
    "        La salida por pantalla sería:\n",
    "        \n",
    "        La función suma tardó 1.65 segundos en ejecutarse.\n",
    "</pre>\n"
   ]
  },
  {
   "cell_type": "code",
   "execution_count": 5,
   "metadata": {},
   "outputs": [
    {
     "name": "stdout",
     "output_type": "stream",
     "text": [
      "La función: suma tardó 1.64 segundos.\n"
     ]
    }
   ],
   "source": [
    "# Realiza tu solución aquí o en un archivo .py independiente\n",
    "import time\n",
    "\n",
    "def mide_tiempo(func):\n",
    "    def envoltorio(*args, **kwargs):\n",
    "        start_time = time.perf_counter()\n",
    "        result = func(*args, **kwargs)\n",
    "        end_time = time.perf_counter()  \n",
    "\n",
    "        diff = (end_time - start_time).__round__(2)\n",
    "        print(f\"La función: {func.__name__} tardó {diff} segundos.\")\n",
    "        return result\n",
    "    return envoltorio\n",
    "\n",
    "@mide_tiempo \n",
    "def suma(n):\n",
    "    return sum(range(n)) \n",
    "\n",
    "if __name__ == \"__main__\":\n",
    "    suma(100000000)\n",
    "\n",
    "\n",
    "\n",
    "\n"
   ]
  }
 ],
 "metadata": {
  "kernelspec": {
   "display_name": ".venv",
   "language": "python",
   "name": "python3"
  },
  "language_info": {
   "codemirror_mode": {
    "name": "ipython",
    "version": 3
   },
   "file_extension": ".py",
   "mimetype": "text/x-python",
   "name": "python",
   "nbconvert_exporter": "python",
   "pygments_lexer": "ipython3",
   "version": "3.13.0"
  }
 },
 "nbformat": 4,
 "nbformat_minor": 4
}
